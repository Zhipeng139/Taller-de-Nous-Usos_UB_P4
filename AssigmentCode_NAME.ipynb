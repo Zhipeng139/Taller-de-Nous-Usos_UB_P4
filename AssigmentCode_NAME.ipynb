{
 "cells": [
  {
   "cell_type": "markdown",
   "metadata": {},
   "source": [
    "NOMS I COGNOMS: Zhipeng Lin, Zhihan Lin\n",
    "\n",
    "GRUP: A"
   ]
  },
  {
   "cell_type": "markdown",
   "metadata": {},
   "source": [
    "# Naive Bayes i Classificació\n"
   ]
  },
  {
   "cell_type": "markdown",
   "metadata": {},
   "source": [
    "En aquest quart lliurament es programarà un classificador, que donat un tweet el categoritzarà en una de les possibles classes. En aquesta ocasió, implementareu un classificador amb tweets de cyber bullying.\n",
    "\n",
    "\n",
    "**Què s’ha de fer?**\n",
    "\n",
    "Volem classificar tweets segons a quin tipus de cyber bullying pertanyen. Així doncs, a partir de tots els tweets que tenim, crearem un vector de característiques que ens descrigui cadascun. Finalment desenvoluparem un classificador probabilístic del tipus Naive Bayes que ens permeti identificar a quina classe de cyber bullying pertany un tweet donat segons les característiques triades.\n",
    "\n",
    "\n",
    "**Quina és la idea del sistema de classificació que s’ha de desenvolupar?**\n",
    "\n",
    "El classificador és un concepte de l'aprenentatge automàtic supervisat. L'objectiu del classificador és donat un vector de característiques que descriuen els objectes que es volen classificar indicar a quina categoria o classe pertanyen d'entre un conjunt predeterminat. \n",
    "\n",
    "El procés de classificació consta de dues parts: \n",
    "(a) el procés d'aprenentatge i \n",
    "(b) el procés d'explotació o testeig. \n",
    "El procés d'aprenentatge rep exemples de parelles $(x,y)$ on $x$ són les característiques, usualment nombres reals, i $y$ és la categoria a la que pertanyen. \n",
    "Aquest conjunt se'l coneix com a conjunt d'entrenament i ens servirà per trobar una funció $\\hat{y}=h(x)$ que donada una $x$ aconsegueixi que $\\hat{y}=y$. Per altra banda el procés de testeig aplica la funció $h(x)$ apresa a l'entrenament a una nova descripció per veure quina categoria li correspon.\n",
    "\n",
    "\n",
    "**Classificació i llenguatge natural**\n",
    "\n",
    "La descripció dels exemples en característiques és el punt més crític de tot sistema d'aprenentatge automàtic. \n",
    "Una de les representacions més simples per tal de descriure un text és la representació *bag-of-words*.\n",
    "Aquesta representació converteix un text en un vector de $N$ paraules. \n",
    "Consisteix en seleccionar un conjunt d'$N$ paraules i per cada paraula comptar quants cops apareix en el text. \n",
    "Una versió alternativa d'aquest procés pot ser simplement indicar si apareix o no en el text."
   ]
  },
  {
   "cell_type": "markdown",
   "metadata": {},
   "source": [
    "## Abans de començar\n",
    "\n",
    "\n",
    "**\\+ Durant la pràctica, solament es podran fer servir les següents llibreries**:\n",
    "\n",
    "`Pandas, Numpy` i `NLTK`\n",
    "\n",
    "*Nota: A més de les que ja es troben presents en la 1a cel·la i funcions natives de Python*\n",
    "\n",
    "**\\+ No es poden modificar les definicions de les funcions donades, ni canviar els noms de les variables i paràmetres ja donats**\n",
    "\n",
    "Això no implica però que els hàgiu de fer servir. És a dir, que la funció tingui un paràmetre anomenat `df` no implica que l'hàgiu de fer servir, si no ho trobeu convenient.\n",
    "\n",
    "**\\+ En les funcions, s'especifica que serà i de quin tipus cada un dels paràmetres, cal respectar-ho**\n",
    "\n",
    "Per exemple (ho posarà en el pydoc de la funció), `df` sempre serà indicatiu del `Pandas.DataFrame` de les dades. Durant els testos, els paràmetres (i específicament `df`) no contindran les mateixes dades que en aquest notebook, si bé si seran del mateix tipus! Per tant, no us refieu de què tinguin, per exemple, el mateix nombre de files."
   ]
  },
  {
   "cell_type": "markdown",
   "metadata": {},
   "source": [
    "## Més informació del dataset\n",
    "\n",
    "El 15 d'Abril de 2020, UNICEF va llançar una alarma com a resposta de l'augment de risc de cyberbullying durant la pandèmia COVID-19. Les estadístiques són prou alarmants: un 36.5% dels estudiants de l'escola fins a l'institut s'han sentit víctimes del cyberbullying i un 87% l'han observat, amb efectes que van des d'una disminució de resultats acadèmics fins a pensaments suïcides.\n",
    "\n",
    "Amb l'objectiu d'ajudar a l'analisis de la situació, s'ha construit un dataset que conté més de 47000 tweets etiquetats d'acord amb la classe de cyberbullying que s'està donant:\n",
    "\n",
    "1. Age;\n",
    "2. Ethnicity;\n",
    "3. Gender;\n",
    "4. Religion;\n",
    "5. Other type of cyberbullying;\n",
    "6. Not cyberbullying\n",
    "\n",
    "Les dades han estat balancejades per tal de contenir aproximadament 8000 mostres de cada classe."
   ]
  },
  {
   "cell_type": "markdown",
   "metadata": {},
   "source": [
    "# Preparar les dades"
   ]
  },
  {
   "cell_type": "markdown",
   "metadata": {},
   "source": [
    "## Llegim dades"
   ]
  },
  {
   "cell_type": "code",
   "execution_count": 312,
   "metadata": {
    "tags": []
   },
   "outputs": [],
   "source": [
    "import pandas as pd\n",
    "import numpy as np"
   ]
  },
  {
   "cell_type": "code",
   "execution_count": 313,
   "metadata": {
    "tags": []
   },
   "outputs": [
    {
     "data": {
      "text/plain": "                                              tweet_text cyberbullying_type\n0      In other words #katandandre, your food was cra...  not_cyberbullying\n1      Why is #aussietv so white? #MKR #theblock #ImA...  not_cyberbullying\n2      @XochitlSuckkks a classy whore? Or more red ve...  not_cyberbullying\n3      @Jason_Gio meh. :P  thanks for the heads up, b...  not_cyberbullying\n4      @RudhoeEnglish This is an ISIS account pretend...  not_cyberbullying\n...                                                  ...                ...\n47687  Black ppl aren't expected to do anything, depe...          ethnicity\n47688  Turner did not withhold his disappointment. Tu...          ethnicity\n47689  I swear to God. This dumb nigger bitch. I have...          ethnicity\n47690  Yea fuck you RT @therealexel: IF YOURE A NIGGE...          ethnicity\n47691  Bro. U gotta chill RT @CHILLShrammy: Dog FUCK ...          ethnicity\n\n[47692 rows x 2 columns]",
      "text/html": "<div>\n<style scoped>\n    .dataframe tbody tr th:only-of-type {\n        vertical-align: middle;\n    }\n\n    .dataframe tbody tr th {\n        vertical-align: top;\n    }\n\n    .dataframe thead th {\n        text-align: right;\n    }\n</style>\n<table border=\"1\" class=\"dataframe\">\n  <thead>\n    <tr style=\"text-align: right;\">\n      <th></th>\n      <th>tweet_text</th>\n      <th>cyberbullying_type</th>\n    </tr>\n  </thead>\n  <tbody>\n    <tr>\n      <th>0</th>\n      <td>In other words #katandandre, your food was cra...</td>\n      <td>not_cyberbullying</td>\n    </tr>\n    <tr>\n      <th>1</th>\n      <td>Why is #aussietv so white? #MKR #theblock #ImA...</td>\n      <td>not_cyberbullying</td>\n    </tr>\n    <tr>\n      <th>2</th>\n      <td>@XochitlSuckkks a classy whore? Or more red ve...</td>\n      <td>not_cyberbullying</td>\n    </tr>\n    <tr>\n      <th>3</th>\n      <td>@Jason_Gio meh. :P  thanks for the heads up, b...</td>\n      <td>not_cyberbullying</td>\n    </tr>\n    <tr>\n      <th>4</th>\n      <td>@RudhoeEnglish This is an ISIS account pretend...</td>\n      <td>not_cyberbullying</td>\n    </tr>\n    <tr>\n      <th>...</th>\n      <td>...</td>\n      <td>...</td>\n    </tr>\n    <tr>\n      <th>47687</th>\n      <td>Black ppl aren't expected to do anything, depe...</td>\n      <td>ethnicity</td>\n    </tr>\n    <tr>\n      <th>47688</th>\n      <td>Turner did not withhold his disappointment. Tu...</td>\n      <td>ethnicity</td>\n    </tr>\n    <tr>\n      <th>47689</th>\n      <td>I swear to God. This dumb nigger bitch. I have...</td>\n      <td>ethnicity</td>\n    </tr>\n    <tr>\n      <th>47690</th>\n      <td>Yea fuck you RT @therealexel: IF YOURE A NIGGE...</td>\n      <td>ethnicity</td>\n    </tr>\n    <tr>\n      <th>47691</th>\n      <td>Bro. U gotta chill RT @CHILLShrammy: Dog FUCK ...</td>\n      <td>ethnicity</td>\n    </tr>\n  </tbody>\n</table>\n<p>47692 rows × 2 columns</p>\n</div>"
     },
     "execution_count": 313,
     "metadata": {},
     "output_type": "execute_result"
    }
   ],
   "source": [
    "df = pd.read_csv('data/cyberbullying_tweets.csv')\n",
    "df"
   ]
  },
  {
   "cell_type": "code",
   "execution_count": 314,
   "metadata": {},
   "outputs": [
    {
     "data": {
      "text/plain": "religion               7998\nage                    7992\ngender                 7973\nethnicity              7961\nnot_cyberbullying      7945\nother_cyberbullying    7823\nName: cyberbullying_type, dtype: int64"
     },
     "execution_count": 314,
     "metadata": {},
     "output_type": "execute_result"
    }
   ],
   "source": [
    "df['cyberbullying_type'].value_counts()"
   ]
  },
  {
   "cell_type": "markdown",
   "metadata": {},
   "source": [
    "## Dividim dataset\n",
    "\n",
    "Dividim els tweets en un conjunt d'entrenament, *train*, i en un conjunt de validació, *test*, per tal de poder entrenar i validar el nostre model de ML."
   ]
  },
  {
   "cell_type": "code",
   "execution_count": 315,
   "metadata": {},
   "outputs": [],
   "source": [
    "from sklearn.model_selection import train_test_split\n",
    "\n",
    "df_tweets_train, df_tweets_test = train_test_split(df, test_size=0.2)"
   ]
  },
  {
   "cell_type": "markdown",
   "metadata": {},
   "source": [
    "Com les dades estaven balancejades originalment, podem observar que la distribució de cadascuna de les classes es manté:"
   ]
  },
  {
   "cell_type": "code",
   "execution_count": 316,
   "metadata": {},
   "outputs": [
    {
     "data": {
      "text/plain": "ethnicity              6446\nreligion               6417\ngender                 6371\nage                    6362\nnot_cyberbullying      6305\nother_cyberbullying    6252\nName: cyberbullying_type, dtype: int64"
     },
     "execution_count": 316,
     "metadata": {},
     "output_type": "execute_result"
    }
   ],
   "source": [
    "df_tweets_train['cyberbullying_type'].value_counts()"
   ]
  },
  {
   "cell_type": "code",
   "execution_count": 317,
   "metadata": {},
   "outputs": [
    {
     "data": {
      "text/plain": "not_cyberbullying      1640\nage                    1630\ngender                 1602\nreligion               1581\nother_cyberbullying    1571\nethnicity              1515\nName: cyberbullying_type, dtype: int64"
     },
     "execution_count": 317,
     "metadata": {},
     "output_type": "execute_result"
    }
   ],
   "source": [
    "df_tweets_test['cyberbullying_type'].value_counts()"
   ]
  },
  {
   "cell_type": "markdown",
   "metadata": {},
   "source": [
    "# Implementació\n",
    "\n",
    "Dividirem el notebook en 3 seccions que es complementen una a l'altra:\n",
    "\n",
    "1. Anàlisis de dades: Informació bàsica sobre els tweets\n",
    "2. Processament de les dades: Creació d'un vector de característiques a partir dels tweets\n",
    "3. Classificació amb Naive Bayes"
   ]
  },
  {
   "cell_type": "markdown",
   "metadata": {},
   "source": [
    "### 1. Anàlisis de dades\n",
    "\n",
    "El primer que haurem de fer és analitzar les dades per veure una mica com són. El que us proposem és fer una sèrie de plots per observar dades com ara:\n",
    "\n",
    "* quants tweets s'estan dirigint a una persona en concret\n",
    "* quants hastags hi ha a cada categoria de tweets\n",
    "* quants tweets hi ha de cada categoria\n",
    "* quants tweets de la categoria \"not_cyberbullying\" és dirigeixen a un usuari vs totes les altres categories\n",
    "* altres coses que penseu que poden ser rellevants"
   ]
  },
  {
   "cell_type": "code",
   "execution_count": 318,
   "metadata": {},
   "outputs": [],
   "source": [
    "import matplotlib.pyplot as plt\n",
    "%matplotlib inline"
   ]
  },
  {
   "cell_type": "code",
   "execution_count": 319,
   "metadata": {
    "tags": []
   },
   "outputs": [
    {
     "data": {
      "text/plain": "                                              tweet_text   cyberbullying_type\n43653  Kill yo self you dumb ass cracker redneck bitc...            ethnicity\n5809   Is there a big-time VC who has strong feminist...    not_cyberbullying\n23265  That's hilarious if you are not Christian then...             religion\n37684           Support your local middle school bullies                  age\n24986  Dismay over Liam Fox's claim of 'shared values...  other_cyberbullying",
      "text/html": "<div>\n<style scoped>\n    .dataframe tbody tr th:only-of-type {\n        vertical-align: middle;\n    }\n\n    .dataframe tbody tr th {\n        vertical-align: top;\n    }\n\n    .dataframe thead th {\n        text-align: right;\n    }\n</style>\n<table border=\"1\" class=\"dataframe\">\n  <thead>\n    <tr style=\"text-align: right;\">\n      <th></th>\n      <th>tweet_text</th>\n      <th>cyberbullying_type</th>\n    </tr>\n  </thead>\n  <tbody>\n    <tr>\n      <th>43653</th>\n      <td>Kill yo self you dumb ass cracker redneck bitc...</td>\n      <td>ethnicity</td>\n    </tr>\n    <tr>\n      <th>5809</th>\n      <td>Is there a big-time VC who has strong feminist...</td>\n      <td>not_cyberbullying</td>\n    </tr>\n    <tr>\n      <th>23265</th>\n      <td>That's hilarious if you are not Christian then...</td>\n      <td>religion</td>\n    </tr>\n    <tr>\n      <th>37684</th>\n      <td>Support your local middle school bullies</td>\n      <td>age</td>\n    </tr>\n    <tr>\n      <th>24986</th>\n      <td>Dismay over Liam Fox's claim of 'shared values...</td>\n      <td>other_cyberbullying</td>\n    </tr>\n  </tbody>\n</table>\n</div>"
     },
     "execution_count": 319,
     "metadata": {},
     "output_type": "execute_result"
    }
   ],
   "source": [
    "df_tweets_train.head()"
   ]
  },
  {
   "cell_type": "markdown",
   "metadata": {},
   "source": [
    "#### **EXERCICI 1:** FEU EL VOSTRE ANALISIS DE DADES AQUÍ"
   ]
  },
  {
   "cell_type": "markdown",
   "metadata": {},
   "source": [
    "> your code here"
   ]
  },
  {
   "cell_type": "code",
   "execution_count": 320,
   "metadata": {},
   "outputs": [],
   "source": [
    "def plot_tweets_to_person(data_frame):\n",
    "    \"\"\"\n",
    "    Plot the numbers of tweets directed to a concrete person,\n",
    "    and numbers of tweets not directed to a concrete person\n",
    "    :param data_frame: DataFrame\n",
    "    \"\"\"\n",
    "    tweet_texts_list = data_frame['tweet_text']\n",
    "    # a string contain a character @ of size 1, means it's directed to a concrete person\n",
    "    counts = tweet_texts_list.str.count('@')\n",
    "    counts = counts == 1\n",
    "\n",
    "    # Number of Ture, directed to a person, and number of False\n",
    "    len_counts = len(counts)\n",
    "    num_true = sum(counts)\n",
    "    num_false = len_counts - num_true\n",
    "\n",
    "    name = [\"Directed to a concrete person\", \"Not directed to one concrete person\"]\n",
    "    values = [num_true, num_false]\n",
    "\n",
    "    plt.title(\"Tweets directed to a person\")\n",
    "    plt.bar(name, values, width=0.3)\n",
    "    plt.show()\n",
    "def total_hastags_in_tweet(data_frame):\n",
    "    # Different type of cyberbullying\n",
    "    types = data_frame[\"cyberbullying_type\"].unique()\n",
    "    values = []\n",
    "\n",
    "    # Count number of # in each category\n",
    "    for type in types:\n",
    "        # get the interested data\n",
    "        mask = data_frame[\"cyberbullying_type\"] == type\n",
    "        interested_data = data_frame[mask]\n",
    "        total_count = sum(interested_data['tweet_text'].str.count('#'))\n",
    "        values.append(total_count)\n",
    "\n",
    "    plt.title(\"Number of #\")\n",
    "    plt.bar(types, values, width=0.3)\n",
    "    plt.show()\n",
    "def total_num_of_tweet_by_category(data_frame):\n",
    "    data = data_frame.groupby(\"cyberbullying_type\").count()\n",
    "    data.plot.bar()\n",
    "    plt.show()\n",
    "def tweet_no_cyberbullying_to_user(data_frame):\n",
    "    mask = data_frame[\"cyberbullying_type\"] == \"not_cyberbullying\"\n",
    "\n",
    "    not_cyberbullying = data_frame[mask]\n",
    "    cyberbullying = data_frame[~mask]\n",
    "\n",
    "    counts_not_cyberbullying = not_cyberbullying['tweet_text'].str.count('@')\n",
    "    counts_not_cyberbullying = counts_not_cyberbullying == 1\n",
    "    counts_not_cyberbullying = sum(counts_not_cyberbullying)\n",
    "\n",
    "    counts_cyberbullying = cyberbullying['tweet_text'].str.count('@')\n",
    "    counts_cyberbullying = counts_cyberbullying == 1\n",
    "    counts_cyberbullying = sum(counts_cyberbullying)\n",
    "\n",
    "    types = [\"Not Cyberbullying\", \"Other\"]\n",
    "    values = [counts_not_cyberbullying, counts_cyberbullying]\n",
    "\n",
    "    plt.title(\"Directed to one user\")\n",
    "    plt.bar(types, values, width=0.3)\n",
    "    plt.show()\n",
    "\n"
   ]
  },
  {
   "cell_type": "code",
   "execution_count": 321,
   "metadata": {
    "collapsed": false
   },
   "outputs": [
    {
     "data": {
      "text/plain": "<Figure size 640x480 with 1 Axes>",
      "image/png": "[encoded data removed]"
     },
     "metadata": {},
     "output_type": "display_data"
    },
    {
     "data": {
      "text/plain": "<Figure size 640x480 with 1 Axes>",
      "image/png": "[encoded data removed]"
     },
     "metadata": {},
     "output_type": "display_data"
    },
    {
     "data": {
      "text/plain": "<Figure size 640x480 with 1 Axes>",
      "image/png": "[encoded data removed]"
     },
     "metadata": {},
     "output_type": "display_data"
    },
    {
     "data": {
      "text/plain": "<Figure size 640x480 with 1 Axes>",
      "image/png": "[encoded data removed]"
     },
     "metadata": {},
     "output_type": "display_data"
    }
   ],
   "source": [
    "functions = [plot_tweets_to_person, total_hastags_in_tweet, total_num_of_tweet_by_category, tweet_no_cyberbullying_to_user]\n",
    "\n",
    "for fn in functions:\n",
    "    fn(df_tweets_train)"
   ]
  },
  {
   "cell_type": "markdown",
   "metadata": {},
   "source": [
    "### Comptar paraules\n",
    "\n",
    "El primer que haurem d'implementar és la funció *normalize* que normalitzarà les paraules.\n",
    "\n",
    "\n",
    "No modificar la següent cel·la, s'encarrega de fer el proce"
   ]
  },
  {
   "cell_type": "code",
   "execution_count": 322,
   "metadata": {
    "tags": []
   },
   "outputs": [],
   "source": [
    "def memo(f):\n",
    "    class memodict(dict):\n",
    "        def __init__(self, f):\n",
    "            self.f = f\n",
    "        def __call__(self, *args):\n",
    "            return self[args]\n",
    "        def __missing__(self, key):\n",
    "            ret = self[key] = self.f(*key)\n",
    "            return ret\n",
    "    return memodict(f)"
   ]
  },
  {
   "cell_type": "markdown",
   "metadata": {},
   "source": [
    "#### **EXERCICI 2:** \n",
    "\n",
    "Empleneu la funció següent que, donada una paraula, la normalitzi passant tots els digits a minúscules."
   ]
  },
  {
   "cell_type": "code",
   "execution_count": 323,
   "metadata": {
    "tags": []
   },
   "outputs": [],
   "source": [
    "@memo    \n",
    "def normalize(word):\n",
    "    \"\"\"\n",
    "    Funció que donada una paraula la normalitzi\n",
    "    Exemple: Taller DELS noUS USOS ---> tallers dels nous usos\n",
    "    \n",
    "    :param word: paraula a normalitzar\n",
    "    :return : paraula normalitzada\n",
    "    \"\"\"\n",
    "    \n",
    "    # YOUR CODE HERE\n",
    "\n",
    "    return word.lower()"
   ]
  },
  {
   "cell_type": "markdown",
   "metadata": {},
   "source": [
    "#### **EXERCICI 3:** \n",
    "\n",
    "Feu una funció que construeixi un diccionari que contingui totes les paraules que s'han trobat tot indicant el total de cops que ha aparegut cadascuna i el nombre de tweets on apareix. Més a baix teniu un exemple de l'estructura que ha de tenir el output de la funció."
   ]
  },
  {
   "cell_type": "code",
   "execution_count": 324,
   "metadata": {
    "scrolled": true,
    "tags": []
   },
   "outputs": [],
   "source": [
    "def count_words(df):\n",
    "    \"\"\"\n",
    "    Funció que ha de construir un diccionari que contingui totes les paraules que s'han trobat indicant\n",
    "    el total de cops que ha aparegut i el nombre de tweets on apareix\n",
    "    \n",
    "    :param df: DataFrame amb els tweets i la informació associada\n",
    "    :return : Diccionari amb el format {word : {n_ocur: valor, n_tweets: valor}, ...}\n",
    "    \"\"\"\n",
    "\n",
    "    # YOUR CODE HERE\n",
    "\n",
    "    word_dicc = {}\n",
    "    tweet_set = set()\n",
    "    list_tweet_text = df['tweet_text'].str.replace(r'[^\\w\\s\\']+', '').str.split(pat=\" \")\n",
    "\n",
    "    for tweet in list_tweet_text:\n",
    "        for word in tweet:\n",
    "            word = normalize(word)\n",
    "            if word not in word_dicc.keys():\n",
    "                word_dicc[word] = {'n_ocur': 1, 'n_tweets': 0}\n",
    "            else:\n",
    "                word_dicc[word]['n_ocur'] += 1\n",
    "\n",
    "            if(word not in tweet_set):\n",
    "                word_dicc[word]['n_tweets'] += 1\n",
    "                tweet_set.add(word)\n",
    "        tweet_set.clear()\n",
    "\n",
    "    return word_dicc"
   ]
  },
  {
   "cell_type": "code",
   "execution_count": 325,
   "metadata": {},
   "outputs": [
    {
     "name": "stderr",
     "output_type": "stream",
     "text": [
      "C:\\Users\\zhipe\\AppData\\Local\\Temp\\ipykernel_21028\\3924668493.py:14: FutureWarning: The default value of regex will change from True to False in a future version.\n",
      "  list_tweet_text = df['tweet_text'].str.replace(r'[^\\w\\s\\']+', '').str.split(pat=\" \")\n"
     ]
    },
    {
     "name": "stdout",
     "output_type": "stream",
     "text": [
      "58581\n"
     ]
    }
   ],
   "source": [
    "dicc_text = count_words(df_tweets_train)\n",
    "print (len(dicc_text))"
   ]
  },
  {
   "cell_type": "code",
   "execution_count": 326,
   "outputs": [
    {
     "data": {
      "text/plain": "{'kill': {'n_ocur': 377, 'n_tweets': 358},\n 'yo': {'n_ocur': 251, 'n_tweets': 227},\n 'self': {'n_ocur': 195, 'n_tweets': 192},\n 'you': {'n_ocur': 14913, 'n_tweets': 10005},\n 'dumb': {'n_ocur': 4282, 'n_tweets': 4051},\n 'ass': {'n_ocur': 2229, 'n_tweets': 1965},\n 'cracker': {'n_ocur': 57, 'n_tweets': 56},\n 'redneck': {'n_ocur': 17, 'n_tweets': 15},\n 'bitch': {'n_ocur': 1629, 'n_tweets': 1458},\n 'tayyoung_': {'n_ocur': 755, 'n_tweets': 752},\n 'fuck': {'n_ocur': 4633, 'n_tweets': 4251},\n 'obama': {'n_ocur': 1016, 'n_tweets': 982},\n 'nigger': {'n_ocur': 3458, 'n_tweets': 3278},\n 'is': {'n_ocur': 11361, 'n_tweets': 9132},\n 'there': {'n_ocur': 1437, 'n_tweets': 1344},\n 'a': {'n_ocur': 19927, 'n_tweets': 13718},\n 'bigtime': {'n_ocur': 3, 'n_tweets': 3},\n 'vc': {'n_ocur': 21, 'n_tweets': 18},\n 'who': {'n_ocur': 4408, 'n_tweets': 3906},\n 'has': {'n_ocur': 1554, 'n_tweets': 1446},\n 'strong': {'n_ocur': 90, 'n_tweets': 85},\n 'feminist': {'n_ocur': 109, 'n_tweets': 107},\n 'ally': {'n_ocur': 25, 'n_tweets': 25},\n 'leanings': {'n_ocur': 3, 'n_tweets': 3},\n 'curious': {'n_ocur': 31, 'n_tweets': 31},\n 'not': {'n_ocur': 5901, 'n_tweets': 5138},\n 'looking': {'n_ocur': 240, 'n_tweets': 235},\n 'for': {'n_ocur': 6915, 'n_tweets': 5902},\n 'funding': {'n_ocur': 44, 'n_tweets': 43},\n \"that's\": {'n_ocur': 697, 'n_tweets': 679},\n 'hilarious': {'n_ocur': 70, 'n_tweets': 70},\n 'if': {'n_ocur': 3384, 'n_tweets': 3094},\n 'are': {'n_ocur': 7416, 'n_tweets': 6068},\n 'christian': {'n_ocur': 1229, 'n_tweets': 1128},\n 'then': {'n_ocur': 1390, 'n_tweets': 1317},\n 'worshipping': {'n_ocur': 8, 'n_tweets': 8},\n 'satan': {'n_ocur': 37, 'n_tweets': 33},\n 'lol': {'n_ocur': 849, 'n_tweets': 807},\n 'connected': {'n_ocur': 13, 'n_tweets': 13},\n 'to': {'n_ocur': 18880, 'n_tweets': 13320},\n 'illuminati': {'n_ocur': 7, 'n_tweets': 7},\n 'freemasonry': {'n_ocur': 1, 'n_tweets': 1},\n 'blah': {'n_ocur': 26, 'n_tweets': 12},\n 'muslims': {'n_ocur': 1946, 'n_tweets': 1723},\n 'also': {'n_ocur': 996, 'n_tweets': 954},\n 'believes': {'n_ocur': 54, 'n_tweets': 53},\n 'that': {'n_ocur': 9425, 'n_tweets': 7806},\n 'do': {'n_ocur': 2718, 'n_tweets': 2469},\n 'believe': {'n_ocur': 456, 'n_tweets': 434},\n 'in': {'n_ocur': 12016, 'n_tweets': 9739},\n 'our': {'n_ocur': 798, 'n_tweets': 718},\n 'imaginary': {'n_ocur': 9, 'n_tweets': 9},\n 'allah': {'n_ocur': 138, 'n_tweets': 127},\n 'and': {'n_ocur': 17309, 'n_tweets': 12306},\n 'have': {'n_ocur': 3999, 'n_tweets': 3598},\n 'faith': {'n_ocur': 81, 'n_tweets': 77},\n 'idiot': {'n_ocur': 1595, 'n_tweets': 1564},\n 'mohammad': {'n_ocur': 15, 'n_tweets': 13},\n 'kaffir': {'n_ocur': 10, 'n_tweets': 9},\n 'support': {'n_ocur': 997, 'n_tweets': 933},\n 'your': {'n_ocur': 3477, 'n_tweets': 2986},\n 'local': {'n_ocur': 51, 'n_tweets': 49},\n 'middle': {'n_ocur': 674, 'n_tweets': 658},\n 'school': {'n_ocur': 6951, 'n_tweets': 6193},\n 'bullies': {'n_ocur': 1292, 'n_tweets': 1196},\n 'dismay': {'n_ocur': 2, 'n_tweets': 2},\n 'over': {'n_ocur': 840, 'n_tweets': 799},\n 'liam': {'n_ocur': 3, 'n_tweets': 3},\n \"fox's\": {'n_ocur': 1, 'n_tweets': 1},\n 'claim': {'n_ocur': 130, 'n_tweets': 127},\n 'of': {'n_ocur': 12369, 'n_tweets': 9625},\n \"'shared\": {'n_ocur': 1, 'n_tweets': 1},\n \"values'\": {'n_ocur': 2, 'n_tweets': 2},\n 'with': {'n_ocur': 4326, 'n_tweets': 3931},\n \"duterte's\": {'n_ocur': 3, 'n_tweets': 3},\n 'brutal': {'n_ocur': 25, 'n_tweets': 24},\n 'regime': {'n_ocur': 18, 'n_tweets': 18},\n 'wherever': {'n_ocur': 10, 'n_tweets': 10},\n 'hindus': {'n_ocur': 271, 'n_tweets': 246},\n 'the': {'n_ocur': 24758, 'n_tweets': 15818},\n 'entire': {'n_ocur': 159, 'n_tweets': 153},\n 'asia': {'n_ocur': 18, 'n_tweets': 16},\n 'including': {'n_ocur': 71, 'n_tweets': 70},\n 'india': {'n_ocur': 415, 'n_tweets': 341},\n 'pakistan': {'n_ocur': 232, 'n_tweets': 203},\n 'bangladesh': {'n_ocur': 22, 'n_tweets': 22},\n 'religious': {'n_ocur': 189, 'n_tweets': 173},\n 'terrorists': {'n_ocur': 529, 'n_tweets': 488},\n 'killing': {'n_ocur': 253, 'n_tweets': 241},\n 'them': {'n_ocur': 2164, 'n_tweets': 1948},\n 'name': {'n_ocur': 615, 'n_tweets': 564},\n 'jihad': {'n_ocur': 451, 'n_tweets': 411},\n 'but': {'n_ocur': 5029, 'n_tweets': 4682},\n 'western': {'n_ocur': 36, 'n_tweets': 36},\n 'media': {'n_ocur': 216, 'n_tweets': 203},\n 'makes': {'n_ocur': 517, 'n_tweets': 499},\n 'news': {'n_ocur': 184, 'n_tweets': 176},\n 'only': {'n_ocur': 1326, 'n_tweets': 1270},\n 'its': {'n_ocur': 1560, 'n_tweets': 1361},\n 'narrator': {'n_ocur': 1, 'n_tweets': 1},\n 'it': {'n_ocur': 6690, 'n_tweets': 5579},\n 'no': {'n_ocur': 2822, 'n_tweets': 2563},\n 'meaning': {'n_ocur': 74, 'n_tweets': 71},\n 'slaughtering': {'n_ocur': 4, 'n_tweets': 4},\n 'humanity': {'n_ocur': 446, 'n_tweets': 419},\n 'hindus_under_attack': {'n_ocur': 2, 'n_tweets': 2},\n 'this': {'n_ocur': 5332, 'n_tweets': 4728},\n 'was': {'n_ocur': 5302, 'n_tweets': 4012},\n 'everyday': {'n_ocur': 72, 'n_tweets': 70},\n 'at': {'n_ocur': 3015, 'n_tweets': 2774},\n 'saline': {'n_ocur': 1, 'n_tweets': 1},\n 'high': {'n_ocur': 4060, 'n_tweets': 3903},\n 'im': {'n_ocur': 1362, 'n_tweets': 1175},\n 'glad': {'n_ocur': 102, 'n_tweets': 101},\n 'i': {'n_ocur': 16539, 'n_tweets': 10888},\n 'able': {'n_ocur': 144, 'n_tweets': 142},\n 'get': {'n_ocur': 2264, 'n_tweets': 2139},\n 'out': {'n_ocur': 2094, 'n_tweets': 1979},\n 'things': {'n_ocur': 570, 'n_tweets': 538},\n 'heard': {'n_ocur': 186, 'n_tweets': 182},\n 'were': {'n_ocur': 1615, 'n_tweets': 1446},\n 'terrible': {'n_ocur': 93, 'n_tweets': 93},\n 'kids': {'n_ocur': 616, 'n_tweets': 538},\n 'would': {'n_ocur': 1652, 'n_tweets': 1516},\n 'scream': {'n_ocur': 21, 'n_tweets': 21},\n 'n': {'n_ocur': 397, 'n_tweets': 338},\n 'word': {'n_ocur': 518, 'n_tweets': 467},\n 'black': {'n_ocur': 2205, 'n_tweets': 1848},\n 'students': {'n_ocur': 103, 'n_tweets': 92},\n 'girl': {'n_ocur': 2169, 'n_tweets': 2037},\n 'hijab': {'n_ocur': 27, 'n_tweets': 20},\n 'bullied': {'n_ocur': 3740, 'n_tweets': 3549},\n 'part': {'n_ocur': 270, 'n_tweets': 262},\n '1': {'n_ocur': 310, 'n_tweets': 294},\n 'boy': {'n_ocur': 282, 'n_tweets': 265},\n 'all': {'n_ocur': 3968, 'n_tweets': 3538},\n 'sad': {'n_ocur': 193, 'n_tweets': 185},\n 'niggers': {'n_ocur': 1049, 'n_tweets': 991},\n 'hoes': {'n_ocur': 79, 'n_tweets': 71},\n 'how': {'n_ocur': 2200, 'n_tweets': 2075},\n 'much': {'n_ocur': 726, 'n_tweets': 696},\n 'will': {'n_ocur': 1874, 'n_tweets': 1652},\n 'u': {'n_ocur': 3248, 'n_tweets': 2292},\n 'take': {'n_ocur': 636, 'n_tweets': 610},\n 'before': {'n_ocur': 520, 'n_tweets': 504},\n 'just': {'n_ocur': 3650, 'n_tweets': 3422},\n 'come': {'n_ocur': 443, 'n_tweets': 431},\n 'sndwill': {'n_ocur': 1, 'n_tweets': 1},\n 'plus': {'n_ocur': 68, 'n_tweets': 65},\n 'got': {'n_ocur': 1387, 'n_tweets': 1296},\n '1st': {'n_ocur': 74, 'n_tweets': 73},\n 'blooded': {'n_ocur': 3, 'n_tweets': 3},\n 'more': {'n_ocur': 1330, 'n_tweets': 1253},\n 'than': {'n_ocur': 947, 'n_tweets': 915},\n 'me': {'n_ocur': 6206, 'n_tweets': 4928},\n 'dumbass': {'n_ocur': 49, 'n_tweets': 49},\n 'stfu': {'n_ocur': 65, 'n_tweets': 65},\n 'retarded': {'n_ocur': 73, 'n_tweets': 73},\n 'god': {'n_ocur': 587, 'n_tweets': 517},\n 'awful': {'n_ocur': 93, 'n_tweets': 87},\n 'chall': {'n_ocur': 1, 'n_tweets': 1},\n '40': {'n_ocur': 51, 'n_tweets': 49},\n 'right': {'n_ocur': 1471, 'n_tweets': 1398},\n 'now': {'n_ocur': 1931, 'n_tweets': 1854},\n 'my': {'n_ocur': 5468, 'n_tweets': 4388},\n 'best': {'n_ocur': 340, 'n_tweets': 330},\n 'wishes': {'n_ocur': 13, 'n_tweets': 13},\n 'kashmiri': {'n_ocur': 53, 'n_tweets': 47},\n 'pandit': {'n_ocur': 14, 'n_tweets': 14},\n 'brothers': {'n_ocur': 53, 'n_tweets': 51},\n '': {'n_ocur': 8383, 'n_tweets': 5960},\n 'sisters': {'n_ocur': 35, 'n_tweets': 33},\n 'across': {'n_ocur': 53, 'n_tweets': 53},\n 'world': {'n_ocur': 688, 'n_tweets': 635},\n 'on': {'n_ocur': 4982, 'n_tweets': 4482},\n 'holy': {'n_ocur': 101, 'n_tweets': 97},\n 'zyeth': {'n_ocur': 1, 'n_tweets': 1},\n 'athamjyeshtha': {'n_ocur': 1, 'n_tweets': 1},\n 'ashtamimay': {'n_ocur': 1, 'n_tweets': 1},\n 'ma': {'n_ocur': 26, 'n_tweets': 26},\n 'kheer': {'n_ocur': 1, 'n_tweets': 1},\n 'bhawani': {'n_ocur': 1, 'n_tweets': 1},\n 'bless': {'n_ocur': 38, 'n_tweets': 35},\n 'uthe': {'n_ocur': 1, 'n_tweets': 1},\n 'pain': {'n_ocur': 50, 'n_tweets': 47},\n 'being': {'n_ocur': 2163, 'n_tweets': 1946},\n 'refugee': {'n_ocur': 7, 'n_tweets': 6},\n 'own': {'n_ocur': 442, 'n_tweets': 426},\n 'country': {'n_ocur': 498, 'n_tweets': 453},\n 'immense': {'n_ocur': 5, 'n_tweets': 5},\n 'one': {'n_ocur': 2734, 'n_tweets': 2528},\n 'day': {'n_ocur': 646, 'n_tweets': 626},\n 'after': {'n_ocur': 633, 'n_tweets': 608},\n 'defeating': {'n_ocur': 4, 'n_tweets': 4},\n 'radical': {'n_ocur': 855, 'n_tweets': 801},\n 'islamic': {'n_ocur': 985, 'n_tweets': 874},\n 'terrorismwe': {'n_ocur': 1, 'n_tweets': 1},\n 'definitely': {'n_ocur': 144, 'n_tweets': 141},\n 'return': {'n_ocur': 46, 'n_tweets': 45},\n 'home': {'n_ocur': 293, 'n_tweets': 279},\n \"it's\": {'n_ocur': 1889, 'n_tweets': 1693},\n 'pleasure': {'n_ocur': 8, 'n_tweets': 8},\n 'childhood': {'n_ocur': 27, 'n_tweets': 27},\n 'because': {'n_ocur': 2133, 'n_tweets': 1956},\n 'different': {'n_ocur': 265, 'n_tweets': 250},\n 'too': {'n_ocur': 969, 'n_tweets': 920},\n 'girls': {'n_ocur': 2228, 'n_tweets': 2029},\n 'made': {'n_ocur': 822, 'n_tweets': 789},\n 'life': {'n_ocur': 685, 'n_tweets': 644},\n 'hell': {'n_ocur': 366, 'n_tweets': 356},\n 'apologised': {'n_ocur': 11, 'n_tweets': 11},\n \"we've\": {'n_ocur': 46, 'n_tweets': 43},\n 'been': {'n_ocur': 1079, 'n_tweets': 1011},\n 'friends': {'n_ocur': 619, 'n_tweets': 563},\n 'ever': {'n_ocur': 622, 'n_tweets': 595},\n 'since': {'n_ocur': 367, 'n_tweets': 360},\n \"we're\": {'n_ocur': 157, 'n_tweets': 149},\n 'so': {'n_ocur': 3987, 'n_tweets': 3644},\n 'happy': {'n_ocur': 220, 'n_tweets': 210},\n 'be': {'n_ocur': 4468, 'n_tweets': 3990},\n 'help': {'n_ocur': 347, 'n_tweets': 334},\n 'xx': {'n_ocur': 25, 'n_tweets': 24},\n 'edgeofthesandbx': {'n_ocur': 18, 'n_tweets': 18},\n 'batchelorshow': {'n_ocur': 18, 'n_tweets': 18},\n 'feardept': {'n_ocur': 18, 'n_tweets': 18},\n \"haven't\": {'n_ocur': 103, 'n_tweets': 103},\n 'met': {'n_ocur': 94, 'n_tweets': 88},\n 'any': {'n_ocur': 910, 'n_tweets': 858},\n 'ukrainians': {'n_ocur': 5, 'n_tweets': 4},\n 'bandera': {'n_ocur': 5, 'n_tweets': 5},\n 'popular': {'n_ocur': 140, 'n_tweets': 135},\n 'among': {'n_ocur': 43, 'n_tweets': 43},\n 'some': {'n_ocur': 1412, 'n_tweets': 1339},\n 'zoomers': {'n_ocur': 2, 'n_tweets': 2},\n 'openly': {'n_ocur': 58, 'n_tweets': 57},\n 'nazis': {'n_ocur': 28, 'n_tweets': 27},\n 'bully': {'n_ocur': 2881, 'n_tweets': 2736},\n 'people': {'n_ocur': 3907, 'n_tweets': 3331},\n 'anymore': {'n_ocur': 118, 'n_tweets': 116},\n 'or': {'n_ocur': 2814, 'n_tweets': 2419},\n 'something': {'n_ocur': 513, 'n_tweets': 496},\n 'rt': {'n_ocur': 3390, 'n_tweets': 3204},\n 'urkindofbrand': {'n_ocur': 1, 'n_tweets': 1},\n 'dawg': {'n_ocur': 14, 'n_tweets': 14},\n '80sbaby4life': {'n_ocur': 2, 'n_tweets': 2},\n 'she': {'n_ocur': 2133, 'n_tweets': 1570},\n 'start': {'n_ocur': 267, 'n_tweets': 261},\n 'cry': {'n_ocur': 93, 'n_tweets': 89},\n 'confused': {'n_ocur': 60, 'n_tweets': 58},\n 'as': {'n_ocur': 3752, 'n_tweets': 3112},\n 'shit': {'n_ocur': 1205, 'n_tweets': 1136},\n 'hopeloze': {'n_ocur': 2, 'n_tweets': 2},\n 'kevinmenzel': {'n_ocur': 2, 'n_tweets': 2},\n 'yeassssssss': {'n_ocur': 2, 'n_tweets': 2},\n 'when': {'n_ocur': 2645, 'n_tweets': 2477},\n '10': {'n_ocur': 130, 'n_tweets': 127},\n 'yrs': {'n_ocur': 53, 'n_tweets': 50},\n 'ago': {'n_ocur': 238, 'n_tweets': 233},\n 'they': {'n_ocur': 4525, 'n_tweets': 3613},\n 'same': {'n_ocur': 937, 'n_tweets': 885},\n 'never': {'n_ocur': 1244, 'n_tweets': 1178},\n 'by': {'n_ocur': 2696, 'n_tweets': 2473},\n 'boys': {'n_ocur': 298, 'n_tweets': 275},\n 'paul': {'n_ocur': 18, 'n_tweets': 18},\n 'bex': {'n_ocur': 1, 'n_tweets': 1},\n 'bullying': {'n_ocur': 971, 'n_tweets': 929},\n 'oh': {'n_ocur': 641, 'n_tweets': 624},\n 'reaaaaaaaaly': {'n_ocur': 1, 'n_tweets': 1},\n 'every': {'n_ocur': 747, 'n_tweets': 706},\n 'londoner': {'n_ocur': 1, 'n_tweets': 1},\n 'did': {'n_ocur': 1065, 'n_tweets': 993},\n 'feel': {'n_ocur': 547, 'n_tweets': 518},\n 'safe': {'n_ocur': 118, 'n_tweets': 108},\n 'knife': {'n_ocur': 11, 'n_tweets': 11},\n 'wielding': {'n_ocur': 3, 'n_tweets': 3},\n 'muslim': {'n_ocur': 1874, 'n_tweets': 1659},\n 'youngsters': {'n_ocur': 1, 'n_tweets': 1},\n 'started': {'n_ocur': 246, 'n_tweets': 241},\n 'stabbing': {'n_ocur': 11, 'n_tweets': 11},\n 'white': {'n_ocur': 1776, 'n_tweets': 1568},\n 'what': {'n_ocur': 2908, 'n_tweets': 2676},\n 'kind': {'n_ocur': 305, 'n_tweets': 298},\n 'we': {'n_ocur': 2503, 'n_tweets': 2080},\n 'these': {'n_ocur': 1238, 'n_tweets': 1166},\n 'problems': {'n_ocur': 95, 'n_tweets': 91},\n 'became': {'n_ocur': 115, 'n_tweets': 110},\n 'mayor': {'n_ocur': 27, 'n_tweets': 24},\n 'contract': {'n_ocur': 5, 'n_tweets': 5},\n 'ended': {'n_ocur': 65, 'n_tweets': 64},\n 'capital': {'n_ocur': 12, 'n_tweets': 12},\n 'city': {'n_ocur': 56, 'n_tweets': 56},\n 'waynejburrows': {'n_ocur': 2, 'n_tweets': 2},\n 'normally': {'n_ocur': 16, 'n_tweets': 16},\n 'nope': {'n_ocur': 67, 'n_tweets': 63},\n 'cousin': {'n_ocur': 27, 'n_tweets': 27},\n 'sister': {'n_ocur': 99, 'n_tweets': 94},\n 'hit': {'n_ocur': 142, 'n_tweets': 134},\n 'gonna': {'n_ocur': 363, 'n_tweets': 345},\n 'niger': {'n_ocur': 45, 'n_tweets': 45},\n 'dont': {'n_ocur': 1323, 'n_tweets': 1167},\n 'aint': {'n_ocur': 148, 'n_tweets': 140},\n 'worth': {'n_ocur': 68, 'n_tweets': 68},\n 'ur': {'n_ocur': 1198, 'n_tweets': 1017},\n 'time': {'n_ocur': 1187, 'n_tweets': 1129},\n 'sis': {'n_ocur': 39, 'n_tweets': 37},\n 'forced': {'n_ocur': 81, 'n_tweets': 77},\n 'watched': {'n_ocur': 75, 'n_tweets': 73},\n 'first': {'n_ocur': 1059, 'n_tweets': 1033},\n 'an': {'n_ocur': 2163, 'n_tweets': 2024},\n 'absolute': {'n_ocur': 46, 'n_tweets': 46},\n 'shitfest': {'n_ocur': 2, 'n_tweets': 2},\n 'everyone': {'n_ocur': 540, 'n_tweets': 515},\n 'involved': {'n_ocur': 70, 'n_tweets': 68},\n 'space': {'n_ocur': 49, 'n_tweets': 47},\n \"there's\": {'n_ocur': 232, 'n_tweets': 225},\n 'huge': {'n_ocur': 71, 'n_tweets': 70},\n 'personal': {'n_ocur': 88, 'n_tweets': 86},\n 'risk': {'n_ocur': 37, 'n_tweets': 34},\n 'targeted': {'n_ocur': 47, 'n_tweets': 44},\n 'family': {'n_ocur': 264, 'n_tweets': 249},\n 'nancy': {'n_ocur': 19, 'n_tweets': 19},\n 'binay': {'n_ocur': 10, 'n_tweets': 10},\n 'skin': {'n_ocur': 155, 'n_tweets': 139},\n 'colour': {'n_ocur': 38, 'n_tweets': 36},\n 'puns': {'n_ocur': 12, 'n_tweets': 12},\n 'gay': {'n_ocur': 3177, 'n_tweets': 2949},\n 'filipino': {'n_ocur': 23, 'n_tweets': 23},\n \"comedian's\": {'n_ocur': 11, 'n_tweets': 11},\n 'rape': {'n_ocur': 3412, 'n_tweets': 3158},\n 'joke': {'n_ocur': 1602, 'n_tweets': 1386},\n 'incurs': {'n_ocur': 10, 'n_tweets': 10},\n 'racist': {'n_ocur': 786, 'n_tweets': 710},\n 'jokes': {'n_ocur': 2798, 'n_tweets': 1938},\n 'about': {'n_ocur': 4008, 'n_tweets': 3499},\n 'd': {'n_ocur': 225, 'n_tweets': 189},\n 'httpbitly142zb3x': {'n_ocur': 1, 'n_tweets': 1},\n 'whiteboys': {'n_ocur': 1, 'n_tweets': 1},\n 'poppin': {'n_ocur': 2, 'n_tweets': 2},\n \"molly's\": {'n_ocur': 1, 'n_tweets': 1},\n 'back': {'n_ocur': 878, 'n_tweets': 843},\n '05': {'n_ocur': 1, 'n_tweets': 1},\n \"y'all\": {'n_ocur': 188, 'n_tweets': 163},\n 'think': {'n_ocur': 1677, 'n_tweets': 1565},\n 'new': {'n_ocur': 441, 'n_tweets': 428},\n 'kikileilani': {'n_ocur': 1, 'n_tweets': 1},\n 'lylapooh': {'n_ocur': 1, 'n_tweets': 1},\n 'like': {'n_ocur': 4737, 'n_tweets': 4239},\n 'erikssonmalin85': {'n_ocur': 5, 'n_tweets': 5},\n 'expressed': {'n_ocur': 5, 'n_tweets': 5},\n 'anger': {'n_ocur': 42, 'n_tweets': 40},\n 'asked': {'n_ocur': 161, 'n_tweets': 157},\n 'question': {'n_ocur': 138, 'n_tweets': 130},\n 'hormonal': {'n_ocur': 2, 'n_tweets': 2},\n 'questionsformen': {'n_ocur': 27, 'n_tweets': 27},\n 'testerosterone': {'n_ocur': 2, 'n_tweets': 2},\n 'yeah': {'n_ocur': 436, 'n_tweets': 420},\n 'always': {'n_ocur': 664, 'n_tweets': 626},\n 'well': {'n_ocur': 673, 'n_tweets': 654},\n 'drove': {'n_ocur': 13, 'n_tweets': 13},\n 'suicide': {'n_ocur': 131, 'n_tweets': 122},\n 'tell': {'n_ocur': 597, 'n_tweets': 574},\n 'someone': {'n_ocur': 749, 'n_tweets': 717},\n 'kys': {'n_ocur': 6, 'n_tweets': 6},\n 'paper': {'n_ocur': 23, 'n_tweets': 22},\n 'dolls': {'n_ocur': 4, 'n_tweets': 4},\n 'real': {'n_ocur': 492, 'n_tweets': 471},\n 'two': {'n_ocur': 373, 'n_tweets': 359},\n 'anime': {'n_ocur': 52, 'n_tweets': 48},\n 'characters': {'n_ocur': 44, 'n_tweets': 43},\n 'fucked': {'n_ocur': 130, 'n_tweets': 129},\n 'up': {'n_ocur': 2558, 'n_tweets': 2424},\n 'andor': {'n_ocur': 22, 'n_tweets': 22},\n 'number10gov': {'n_ocur': 18, 'n_tweets': 18},\n \"i'm\": {'n_ocur': 2191, 'n_tweets': 1996},\n 'totally': {'n_ocur': 125, 'n_tweets': 118},\n 'sick': {'n_ocur': 216, 'n_tweets': 208},\n 'politically': {'n_ocur': 20, 'n_tweets': 20},\n 'expedient': {'n_ocur': 1, 'n_tweets': 1},\n 'statements': {'n_ocur': 24, 'n_tweets': 24},\n 'attack': {'n_ocur': 168, 'n_tweets': 157},\n 'islam': {'n_ocur': 1024, 'n_tweets': 887},\n 'example': {'n_ocur': 127, 'n_tweets': 125},\n 'criticizing': {'n_ocur': 15, 'n_tweets': 13},\n 'caa': {'n_ocur': 23, 'n_tweets': 19},\n 'without': {'n_ocur': 266, 'n_tweets': 263},\n 'reading': {'n_ocur': 113, 'n_tweets': 109},\n 'coz': {'n_ocur': 52, 'n_tweets': 49},\n 'said': {'n_ocur': 1047, 'n_tweets': 973},\n 'antimuslim': {'n_ocur': 14, 'n_tweets': 13},\n \"you're\": {'n_ocur': 829, 'n_tweets': 761},\n 'behaving': {'n_ocur': 6, 'n_tweets': 6},\n 'those': {'n_ocur': 861, 'n_tweets': 813},\n 'idiots': {'n_ocur': 1159, 'n_tweets': 1138},\n 'quran': {'n_ocur': 542, 'n_tweets': 476},\n 'hope': {'n_ocur': 366, 'n_tweets': 359},\n \"they're\": {'n_ocur': 293, 'n_tweets': 268},\n 'deconstraucted': {'n_ocur': 1, 'n_tweets': 1},\n 'pro': {'n_ocur': 75, 'n_tweets': 61},\n 'mowhores': {'n_ocur': 1, 'n_tweets': 1},\n 'mkr': {'n_ocur': 1987, 'n_tweets': 1968},\n 'xomanderrr': {'n_ocur': 1, 'n_tweets': 1},\n 'haha': {'n_ocur': 199, 'n_tweets': 188},\n 'shouldnt': {'n_ocur': 53, 'n_tweets': 52},\n 'hurt': {'n_ocur': 133, 'n_tweets': 128},\n 'bad': {'n_ocur': 796, 'n_tweets': 728},\n 'gettin': {'n_ocur': 14, 'n_tweets': 14},\n 'tattoo': {'n_ocur': 13, 'n_tweets': 13},\n 'woman': {'n_ocur': 1161, 'n_tweets': 1089},\n 'stripped': {'n_ocur': 4, 'n_tweets': 4},\n 'naked': {'n_ocur': 33, 'n_tweets': 32},\n 'beaten': {'n_ocur': 41, 'n_tweets': 39},\n 'amp': {'n_ocur': 2113, 'n_tweets': 1670},\n 'paraded': {'n_ocur': 2, 'n_tweets': 2},\n 'through': {'n_ocur': 400, 'n_tweets': 385},\n 'streets': {'n_ocur': 33, 'n_tweets': 31},\n 'hindu': {'n_ocur': 263, 'n_tweets': 234},\n 'aka': {'n_ocur': 34, 'n_tweets': 33},\n 'rss': {'n_ocur': 79, 'n_tweets': 68},\n 'group': {'n_ocur': 315, 'n_tweets': 290},\n 'burned': {'n_ocur': 24, 'n_tweets': 24},\n 'her': {'n_ocur': 2143, 'n_tweets': 1625},\n 'house': {'n_ocur': 245, 'n_tweets': 236},\n 'dragged': {'n_ocur': 16, 'n_tweets': 16},\n 'onto': {'n_ocur': 32, 'n_tweets': 32},\n 'street': {'n_ocur': 61, 'n_tweets': 61},\n 'becoming': {'n_ocur': 58, 'n_tweets': 58},\n 'dangerous': {'n_ocur': 57, 'n_tweets': 57},\n 'place': {'n_ocur': 219, 'n_tweets': 213},\n 'ministries': {'n_ocur': 2, 'n_tweets': 2},\n 'forbid': {'n_ocur': 13, 'n_tweets': 13},\n 'where': {'n_ocur': 736, 'n_tweets': 703},\n 'human': {'n_ocur': 241, 'n_tweets': 228},\n 'un_women': {'n_ocur': 2, 'n_tweets': 2},\n 'alas': {'n_ocur': 6, 'n_tweets': 6},\n 'very': {'n_ocur': 533, 'n_tweets': 484},\n 'true': {'n_ocur': 243, 'n_tweets': 234},\n 'christians': {'n_ocur': 470, 'n_tweets': 429},\n 'esp': {'n_ocur': 20, 'n_tweets': 20},\n 'tn': {'n_ocur': 9, 'n_tweets': 8},\n 'kerala': {'n_ocur': 10, 'n_tweets': 10},\n 'must': {'n_ocur': 324, 'n_tweets': 311},\n 'acknowledge': {'n_ocur': 22, 'n_tweets': 22},\n 'bjp': {'n_ocur': 57, 'n_tweets': 54},\n 'their': {'n_ocur': 1848, 'n_tweets': 1671},\n 'safety': {'n_ocur': 36, 'n_tweets': 36},\n 'security': {'n_ocur': 43, 'n_tweets': 43},\n 'welfare': {'n_ocur': 20, 'n_tweets': 20},\n 'congress': {'n_ocur': 73, 'n_tweets': 62},\n 'hand': {'n_ocur': 104, 'n_tweets': 98},\n 'glove': {'n_ocur': 1, 'n_tweets': 1},\n 'parties': {'n_ocur': 37, 'n_tweets': 37},\n 'iuml': {'n_ocur': 1, 'n_tweets': 1},\n 'aiudf': {'n_ocur': 1, 'n_tweets': 1},\n 'etc': {'n_ocur': 321, 'n_tweets': 292},\n 'voting': {'n_ocur': 42, 'n_tweets': 42},\n 'making': {'n_ocur': 578, 'n_tweets': 552},\n 'powerful': {'n_ocur': 30, 'n_tweets': 30},\n \"we'll\": {'n_ocur': 43, 'n_tweets': 41},\n 'fight': {'n_ocur': 292, 'n_tweets': 276},\n 'thâ': {'n_ocur': 2, 'n_tweets': 2},\n 'httpstcozdjhqfxj2l': {'n_ocur': 1, 'n_tweets': 1},\n 'jackheathh': {'n_ocur': 1, 'n_tweets': 1},\n 'sexist': {'n_ocur': 817, 'n_tweets': 796},\n 'women': {'n_ocur': 1288, 'n_tweets': 1161},\n 'drivers': {'n_ocur': 30, 'n_tweets': 28},\n 'mean': {'n_ocur': 725, 'n_tweets': 686},\n 'alexlifschitz': {'n_ocur': 7, 'n_tweets': 7},\n 'tha_rami': {'n_ocur': 1, 'n_tweets': 1},\n 'non': {'n_ocur': 183, 'n_tweets': 170},\n 'game': {'n_ocur': 216, 'n_tweets': 197},\n 'dev': {'n_ocur': 20, 'n_tweets': 19},\n 'stuff': {'n_ocur': 214, 'n_tweets': 208},\n 'though': {'n_ocur': 288, 'n_tweets': 286},\n 'want': {'n_ocur': 1128, 'n_tweets': 1062},\n 'can': {'n_ocur': 2088, 'n_tweets': 1953},\n 'off': {'n_ocur': 848, 'n_tweets': 828},\n 'easy': {'n_ocur': 85, 'n_tweets': 84},\n 'explanations': {'n_ocur': 1, 'n_tweets': 1},\n 'press': {'n_ocur': 51, 'n_tweets': 46},\n 'benhamill': {'n_ocur': 1, 'n_tweets': 1},\n 'dye': {'n_ocur': 11, 'n_tweets': 10},\n 'hair': {'n_ocur': 233, 'n_tweets': 200},\n 'highest': {'n_ocur': 19, 'n_tweets': 19},\n 'number': {'n_ocur': 95, 'n_tweets': 95},\n 'mosques': {'n_ocur': 36, 'n_tweets': 34},\n 'rsee': {'n_ocur': 1, 'n_tweets': 1},\n 'haj': {'n_ocur': 2, 'n_tweets': 2},\n 'houses': {'n_ocur': 13, 'n_tweets': 12},\n 'find': {'n_ocur': 410, 'n_tweets': 395},\n 'matching': {'n_ocur': 10, 'n_tweets': 10},\n '5star': {'n_ocur': 1, 'n_tweets': 1},\n 'hotel': {'n_ocur': 17, 'n_tweets': 17},\n 'still': {'n_ocur': 1162, 'n_tweets': 1107},\n 'r': {'n_ocur': 541, 'n_tweets': 441},\n 'islamophobicislamophobia': {'n_ocur': 1, 'n_tweets': 1},\n 'awa': {'n_ocur': 1, 'n_tweets': 1},\n 'terrorism': {'n_ocur': 861, 'n_tweets': 741},\n 'both': {'n_ocur': 302, 'n_tweets': 283},\n 'terms': {'n_ocur': 48, 'n_tweets': 47},\n 'coined': {'n_ocur': 7, 'n_tweets': 7},\n 'west': {'n_ocur': 59, 'n_tweets': 56},\n 'bark': {'n_ocur': 12, 'n_tweets': 10},\n 'themthey': {'n_ocur': 2, 'n_tweets': 2},\n 'give': {'n_ocur': 496, 'n_tweets': 488},\n 'medication': {'n_ocur': 3, 'n_tweets': 3},\n 'lmaobeast': {'n_ocur': 1, 'n_tweets': 1},\n 'fucking': {'n_ocur': 1350, 'n_tweets': 1213},\n 'cancer': {'n_ocur': 52, 'n_tweets': 49},\n 'worthless': {'n_ocur': 18, 'n_tweets': 18},\n 'loser': {'n_ocur': 40, 'n_tweets': 40},\n 'loves': {'n_ocur': 68, 'n_tweets': 66},\n 'cunt': {'n_ocur': 128, 'n_tweets': 126},\n 'fucker': {'n_ocur': 26, 'n_tweets': 25},\n 'urself': {'n_ocur': 29, 'n_tweets': 28},\n 'daily': {'n_ocur': 86, 'n_tweets': 85},\n 'basis': {'n_ocur': 28, 'n_tweets': 28},\n 'transmen': {'n_ocur': 1, 'n_tweets': 1},\n 'came': {'n_ocur': 199, 'n_tweets': 194},\n 'head': {'n_ocur': 277, 'n_tweets': 266},\n 'werent': {'n_ocur': 40, 'n_tweets': 39},\n 'informative': {'n_ocur': 2, 'n_tweets': 2},\n 'acting': {'n_ocur': 115, 'n_tweets': 113},\n 'lil': {'n_ocur': 117, 'n_tweets': 114},\n 'trying': {'n_ocur': 488, 'n_tweets': 467},\n 'into': {'n_ocur': 740, 'n_tweets': 717},\n 'submission': {'n_ocur': 6, 'n_tweets': 5},\n 'thats': {'n_ocur': 436, 'n_tweets': 419},\n 'why': {'n_ocur': 1770, 'n_tweets': 1626},\n 'wasnt': {'n_ocur': 158, 'n_tweets': 148},\n 'receptive': {'n_ocur': 2, 'n_tweets': 2},\n 'saying': {'n_ocur': 687, 'n_tweets': 648},\n 'cant': {'n_ocur': 470, 'n_tweets': 441},\n 'cause': {'n_ocur': 361, 'n_tweets': 341},\n 'punk': {'n_ocur': 18, 'n_tweets': 18},\n 'id': {'n_ocur': 109, 'n_tweets': 104},\n 'slap': {'n_ocur': 30, 'n_tweets': 30},\n 'irl': {'n_ocur': 25, 'n_tweets': 25},\n 'having': {'n_ocur': 366, 'n_tweets': 358},\n 'racistsexist': {'n_ocur': 1, 'n_tweets': 1},\n 'president': {'n_ocur': 238, 'n_tweets': 224},\n 'condemning': {'n_ocur': 12, 'n_tweets': 12},\n 'marriages': {'n_ocur': 6, 'n_tweets': 6},\n 'abolishing': {'n_ocur': 1, 'n_tweets': 1},\n 'abortion': {'n_ocur': 91, 'n_tweets': 86},\n 'even': {'n_ocur': 1331, 'n_tweets': 1259},\n 'case': {'n_ocur': 131, 'n_tweets': 126},\n 'good': {'n_ocur': 1026, 'n_tweets': 973},\n 'anyone': {'n_ocur': 439, 'n_tweets': 426},\n 'decent': {'n_ocur': 47, 'n_tweets': 43},\n 'raise': {'n_ocur': 45, 'n_tweets': 41},\n 'children': {'n_ocur': 288, 'n_tweets': 271},\n 'eyes': {'n_ocur': 94, 'n_tweets': 90},\n 'lordthe': {'n_ocur': 1, 'n_tweets': 1},\n 'second': {'n_ocur': 111, 'n_tweets': 110},\n 'amendmentthe': {'n_ocur': 1, 'n_tweets': 1},\n 'great': {'n_ocur': 281, 'n_tweets': 272},\n 'state': {'n_ocur': 170, 'n_tweets': 163},\n 'south': {'n_ocur': 61, 'n_tweets': 54},\n 'pentucky': {'n_ocur': 1, 'n_tweets': 1},\n 'call': {'n_ocur': 1350, 'n_tweets': 1272},\n 'trump': {'n_ocur': 517, 'n_tweets': 446},\n 'disciple': {'n_ocur': 1, 'n_tweets': 1},\n 'suppremacist': {'n_ocur': 1, 'n_tweets': 1},\n 'karen': {'n_ocur': 22, 'n_tweets': 20},\n 'mother': {'n_ocur': 151, 'n_tweets': 144},\n 'teacher': {'n_ocur': 139, 'n_tweets': 125},\n 'little': {'n_ocur': 386, 'n_tweets': 374},\n 'childrens': {'n_ocur': 4, 'n_tweets': 4},\n 'could': {'n_ocur': 494, 'n_tweets': 483},\n 'stupid': {'n_ocur': 589, 'n_tweets': 574},\n 'try': {'n_ocur': 393, 'n_tweets': 377},\n 'excuses': {'n_ocur': 24, 'n_tweets': 24},\n 'know': {'n_ocur': 1858, 'n_tweets': 1739},\n \"don't\": {'n_ocur': 2215, 'n_tweets': 2006},\n 'date': {'n_ocur': 182, 'n_tweets': 177},\n \"i've\": {'n_ocur': 475, 'n_tweets': 451},\n 'teased': {'n_ocur': 14, 'n_tweets': 13},\n 'heart': {'n_ocur': 115, 'n_tweets': 112},\n 'problem': {'n_ocur': 313, 'n_tweets': 303},\n 'especially': {'n_ocur': 131, 'n_tweets': 129},\n 'unwanted': {'n_ocur': 7, 'n_tweets': 7},\n 'done': {'n_ocur': 379, 'n_tweets': 369},\n 'exercise': {'n_ocur': 15, 'n_tweets': 14},\n 'open': {'n_ocur': 151, 'n_tweets': 149},\n 'minds': {'n_ocur': 33, 'n_tweets': 29},\n 'lifetime': {'n_ocur': 5, 'n_tweets': 5},\n 'skills': {'n_ocur': 23, 'n_tweets': 23},\n 'development': {'n_ocur': 13, 'n_tweets': 13},\n 'learning': {'n_ocur': 40, 'n_tweets': 38},\n 'yourself': {'n_ocur': 272, 'n_tweets': 264},\n 'others': {'n_ocur': 254, 'n_tweets': 243},\n 'instead': {'n_ocur': 178, 'n_tweets': 175},\n 'favouritism': {'n_ocur': 1, 'n_tweets': 1},\n 'maintaining': {'n_ocur': 3, 'n_tweets': 3},\n 'pecking': {'n_ocur': 1, 'n_tweets': 1},\n 'order': {'n_ocur': 77, 'n_tweets': 77},\n \"wdude's\": {'n_ocur': 2, 'n_tweets': 2},\n 'solution': {'n_ocur': 23, 'n_tweets': 22},\n 'publicly': {'n_ocur': 32, 'n_tweets': 32},\n 'him': {'n_ocur': 1194, 'n_tweets': 1029},\n 'accused': {'n_ocur': 44, 'n_tweets': 44},\n 'pick': {'n_ocur': 150, 'n_tweets': 147},\n 'ask': {'n_ocur': 268, 'n_tweets': 257},\n 'shocking': {'n_ocur': 8, 'n_tweets': 8},\n 'blazinbirdman10': {'n_ocur': 1, 'n_tweets': 1},\n 'listen': {'n_ocur': 160, 'n_tweets': 155},\n 'band': {'n_ocur': 39, 'n_tweets': 35},\n 'plain': {'n_ocur': 25, 'n_tweets': 25},\n 'fact': {'n_ocur': 311, 'n_tweets': 304},\n 'maid': {'n_ocur': 5, 'n_tweets': 5},\n 'honor': {'n_ocur': 35, 'n_tweets': 33},\n 'lmao': {'n_ocur': 333, 'n_tweets': 322},\n 'equalitymen': {'n_ocur': 2, 'n_tweets': 2},\n 'motive': {'n_ocur': 4, 'n_tweets': 4},\n \"doesn't\": {'n_ocur': 481, 'n_tweets': 463},\n 'lessen': {'n_ocur': 3, 'n_tweets': 3},\n 'outcome': {'n_ocur': 8, 'n_tweets': 8},\n 'nigga': {'n_ocur': 364, 'n_tweets': 332},\n 'knock': {'n_ocur': 21, 'n_tweets': 20},\n 'muthafuckin': {'n_ocur': 2, 'n_tweets': 2},\n 'teeth': {'n_ocur': 21, 'n_tweets': 21},\n 'way': {'n_ocur': 873, 'n_tweets': 842},\n 'mouth': {'n_ocur': 109, 'n_tweets': 109},\n 'thoughts': {'n_ocur': 42, 'n_tweets': 42},\n 'feelings': {'n_ocur': 57, 'n_tweets': 57},\n 'use': {'n_ocur': 521, 'n_tweets': 491},\n 'erica': {'n_ocur': 4, 'n_tweets': 4},\n 'deflected': {'n_ocur': 2, 'n_tweets': 2},\n 'outta': {'n_ocur': 73, 'n_tweets': 71},\n 'convo': {'n_ocur': 19, 'n_tweets': 19},\n 'cynn': {'n_ocur': 1, 'n_tweets': 1},\n 'fell': {'n_ocur': 28, 'n_tweets': 28},\n 'incredabelle': {'n_ocur': 1, 'n_tweets': 1},\n 'exchanged': {'n_ocur': 1, 'n_tweets': 1},\n 'waves': {'n_ocur': 3, 'n_tweets': 3},\n 'smiles': {'n_ocur': 3, 'n_tweets': 3},\n 'khloekardashian': {'n_ocur': 2, 'n_tweets': 1},\n 'disgusting': {'n_ocur': 521, 'n_tweets': 513},\n 'tarzansavelo': {'n_ocur': 1, 'n_tweets': 1},\n 'lover': {'n_ocur': 29, 'n_tweets': 28},\n 'ppl': {'n_ocur': 455, 'n_tweets': 393},\n 'folks': {'n_ocur': 124, 'n_tweets': 119},\n 'weak': {'n_ocur': 66, 'n_tweets': 64},\n 'gidgitvonlarue': {'n_ocur': 11, 'n_tweets': 11},\n 'exactly': {'n_ocur': 165, 'n_tweets': 162},\n 'breakfast': {'n_ocur': 42, 'n_tweets': 41},\n 'ih8tvvitterhoes': {'n_ocur': 1, 'n_tweets': 1},\n 'bornsinner': {'n_ocur': 1, 'n_tweets': 1},\n 'lmfao': {'n_ocur': 80, 'n_tweets': 78},\n 'left': {'n_ocur': 287, 'n_tweets': 274},\n 'guys': {'n_ocur': 482, 'n_tweets': 450},\n 'specially': {'n_ocur': 10, 'n_tweets': 10},\n 'love': {'n_ocur': 865, 'n_tweets': 795},\n 'killers': {'n_ocur': 25, 'n_tweets': 24},\n 'cool': {'n_ocur': 222, 'n_tweets': 213},\n 'lets': {'n_ocur': 102, 'n_tweets': 102},\n 'mom': {'n_ocur': 222, 'n_tweets': 207},\n 'headline': {'n_ocur': 9, 'n_tweets': 9},\n 'ignores': {'n_ocur': 7, 'n_tweets': 7},\n 'complex': {'n_ocur': 19, 'n_tweets': 19},\n 'events': {'n_ocur': 24, 'n_tweets': 24},\n 'led': {'n_ocur': 44, 'n_tweets': 44},\n 'article': {'n_ocur': 78, 'n_tweets': 75},\n 'doesnt': {'n_ocur': 273, 'n_tweets': 261},\n 'provide': {'n_ocur': 32, 'n_tweets': 32},\n 'details': {'n_ocur': 16, 'n_tweets': 16},\n 'childs': {'n_ocur': 5, 'n_tweets': 5},\n 'past': {'n_ocur': 710, 'n_tweets': 679},\n 'assault': {'n_ocur': 82, 'n_tweets': 80},\n 'charges': {'n_ocur': 14, 'n_tweets': 14},\n 'doing': {'n_ocur': 525, 'n_tweets': 505},\n 'work': {'n_ocur': 354, 'n_tweets': 342},\n 'shes': {'n_ocur': 170, 'n_tweets': 145},\n 'jail': {'n_ocur': 70, 'n_tweets': 67},\n 'maybe': {'n_ocur': 270, 'n_tweets': 262},\n 'insane': {'n_ocur': 44, 'n_tweets': 44},\n 'long': {'n_ocur': 269, 'n_tweets': 257},\n 'takes': {'n_ocur': 118, 'n_tweets': 114},\n 'anything': {'n_ocur': 951, 'n_tweets': 926},\n 'makofury': {'n_ocur': 2, 'n_tweets': 2},\n 'sorry': {'n_ocur': 361, 'n_tweets': 344},\n 'going': {'n_ocur': 789, 'n_tweets': 765},\n 'from': {'n_ocur': 2392, 'n_tweets': 2215},\n 'lives': {'n_ocur': 236, 'n_tweets': 224},\n 'matter': {'n_ocur': 273, 'n_tweets': 264},\n 'kid': {'n_ocur': 323, 'n_tweets': 296},\n 'murdered': {'n_ocur': 88, 'n_tweets': 86},\n 'understand': {'n_ocur': 332, 'n_tweets': 323},\n 'whats': {'n_ocur': 94, 'n_tweets': 91},\n 'soignorant': {'n_ocur': 1, 'n_tweets': 1},\n 'rti': {'n_ocur': 1, 'n_tweets': 1},\n 'activist': {'n_ocur': 17, 'n_tweets': 17},\n 'saketgokhale': {'n_ocur': 1, 'n_tweets': 1},\n 'dna': {'n_ocur': 14, 'n_tweets': 12},\n 'body': {'n_ocur': 99, 'n_tweets': 94},\n 'journalism': {'n_ocur': 25, 'n_tweets': 25},\n 'relocate': {'n_ocur': 3, 'n_tweets': 3},\n 'bharat': {'n_ocur': 20, 'n_tweets': 17},\n 'rahulgandhi': {'n_ocur': 2, 'n_tweets': 2},\n 'proved': {'n_ocur': 28, 'n_tweets': 26},\n 'brainless': {'n_ocur': 9, 'n_tweets': 9},\n 'shame': {'n_ocur': 180, 'n_tweets': 165},\n 'zeenews': {'n_ocur': 4, 'n_tweets': 4},\n 'saketgokhle': {'n_ocur': 1, 'n_tweets': 1},\n 'antihindupropogenda': {'n_ocur': 1, 'n_tweets': 1},\n 'rammandir': {'n_ocur': 1, 'n_tweets': 1},\n 'alma': {'n_ocur': 3, 'n_tweets': 3},\n 'private': {'n_ocur': 79, 'n_tweets': 79},\n 'los': {'n_ocur': 13, 'n_tweets': 13},\n 'angeles': {'n_ocur': 3, 'n_tweets': 3},\n 'freshman': {'n_ocur': 34, 'n_tweets': 34},\n 'year': {'n_ocur': 442, 'n_tweets': 421},\n 'bus': {'n_ocur': 73, 'n_tweets': 69},\n 'route': {'n_ocur': 6, 'n_tweets': 6},\n 'la': {'n_ocur': 54, 'n_tweets': 52},\n 'stopping': {'n_ocur': 21, 'n_tweets': 21},\n 'cheviot': {'n_ocur': 1, 'n_tweets': 1},\n 'beverly': {'n_ocur': 1, 'n_tweets': 1},\n 'hills': {'n_ocur': 8, 'n_tweets': 7},\n 'families': {'n_ocur': 38, 'n_tweets': 37},\n 'complained': {'n_ocur': 4, 'n_tweets': 4},\n 'greeted': {'n_ocur': 2, 'n_tweets': 2},\n 'full': {'n_ocur': 196, 'n_tweets': 192},\n 'negros': {'n_ocur': 68, 'n_tweets': 67},\n 'side': {'n_ocur': 118, 'n_tweets': 111},\n 'called': {'n_ocur': 1204, 'n_tweets': 1117},\n 'poor': {'n_ocur': 141, 'n_tweets': 137},\n 'child': {'n_ocur': 219, 'n_tweets': 206},\n 'away': {'n_ocur': 287, 'n_tweets': 278},\n 'sense': {'n_ocur': 148, 'n_tweets': 145},\n 'although': {'n_ocur': 42, 'n_tweets': 41},\n 'elementary': {'n_ocur': 174, 'n_tweets': 174},\n \"wasn't\": {'n_ocur': 174, 'n_tweets': 168},\n 'raising': {'n_ocur': 17, 'n_tweets': 17},\n 'respectful': {'n_ocur': 17, 'n_tweets': 17},\n 'beings': {'n_ocur': 18, 'n_tweets': 18},\n 'evilgaywitch': {'n_ocur': 2, 'n_tweets': 2},\n 'sarahjeong': {'n_ocur': 14, 'n_tweets': 14},\n 'screenshot': {'n_ocur': 12, 'n_tweets': 11},\n 'he': {'n_ocur': 2912, 'n_tweets': 2076},\n 'deletes': {'n_ocur': 1, 'n_tweets': 1},\n 'httptcoxiu7dj0mcf': {'n_ocur': 1, 'n_tweets': 1},\n 'us': {'n_ocur': 1062, 'n_tweets': 945},\n 'recover': {'n_ocur': 5, 'n_tweets': 5},\n 'until': {'n_ocur': 278, 'n_tweets': 272},\n 'covid19': {'n_ocur': 30, 'n_tweets': 29},\n 'brought': {'n_ocur': 69, 'n_tweets': 68},\n 'under': {'n_ocur': 188, 'n_tweets': 187},\n 'control': {'n_ocur': 78, 'n_tweets': 75},\n 'obvious': {'n_ocur': 51, 'n_tweets': 51},\n '4': {'n_ocur': 302, 'n_tweets': 286},\n 'reason': {'n_ocur': 263, 'n_tweets': 258},\n 'his': {'n_ocur': 1585, 'n_tweets': 1319},\n 'around': {'n_ocur': 417, 'n_tweets': 403},\n 'states': {'n_ocur': 95, 'n_tweets': 90},\n 'localities': {'n_ocur': 2, 'n_tweets': 2},\n '2': {'n_ocur': 606, 'n_tweets': 558},\n 'reopen': {'n_ocur': 15, 'n_tweets': 13},\n 'schools': {'n_ocur': 352, 'n_tweets': 326},\n 'else': {'n_ocur': 257, 'n_tweets': 256},\n 'needs': {'n_ocur': 207, 'n_tweets': 204},\n 'mighty': {'n_ocur': 6, 'n_tweets': 6},\n 'joe': {'n_ocur': 37, 'n_tweets': 32},\n 'whos': {'n_ocur': 50, 'n_tweets': 50},\n 'swine': {'n_ocur': 8, 'n_tweets': 8},\n 'flu': {'n_ocur': 4, 'n_tweets': 4},\n 'pandemic': {'n_ocur': 35, 'n_tweets': 34},\n 'crazybbbitch': {'n_ocur': 1, 'n_tweets': 1},\n 'better': {'n_ocur': 544, 'n_tweets': 531},\n 'classy': {'n_ocur': 31, 'n_tweets': 31},\n 'broad': {'n_ocur': 18, 'n_tweets': 18},\n 'evil_daesh': {'n_ocur': 1, 'n_tweets': 1},\n '12yrold': {'n_ocur': 1, 'n_tweets': 1},\n 'sold': {'n_ocur': 38, 'n_tweets': 38},\n 'isis': {'n_ocur': 663, 'n_tweets': 589},\n 'slave': {'n_ocur': 102, 'n_tweets': 99},\n '50yrold': {'n_ocur': 1, 'n_tweets': 1},\n 'man': {'n_ocur': 933, 'n_tweets': 872},\n \"didn't\": {'n_ocur': 481, 'n_tweets': 461},\n 'meant': {'n_ocur': 79, 'n_tweets': 74},\n 'woke': {'n_ocur': 48, 'n_tweets': 48},\n 'bleeding': {'n_ocur': 11, 'n_tweets': 11},\n 'http': {'n_ocur': 64, 'n_tweets': 64},\n 'adrianjstyles': {'n_ocur': 1, 'n_tweets': 1},\n 'song': {'n_ocur': 78, 'n_tweets': 74},\n 'wrenesse': {'n_ocur': 1, 'n_tweets': 1},\n 'works': {'n_ocur': 82, 'n_tweets': 81},\n 'tallula': {'n_ocur': 1, 'n_tweets': 1},\n 'last': {'n_ocur': 319, 'n_tweets': 316},\n 'ditch': {'n_ocur': 5, 'n_tweets': 5},\n 'attempt': {'n_ocur': 39, 'n_tweets': 39},\n 'stop': {'n_ocur': 826, 'n_tweets': 780},\n 'crying': {'n_ocur': 82, 'n_tweets': 80},\n 'g': {'n_ocur': 26, 'n_tweets': 24},\n 'bc': {'n_ocur': 349, 'n_tweets': 314},\n \"isn't\": {'n_ocur': 349, 'n_tweets': 335},\n 'borat': {'n_ocur': 1, 'n_tweets': 1},\n 'wife': {'n_ocur': 89, 'n_tweets': 83},\n \"who's\": {'n_ocur': 71, 'n_tweets': 71},\n 'easterners': {'n_ocur': 1, 'n_tweets': 1},\n 'amirite': {'n_ocur': 7, 'n_tweets': 3},\n 'bruno': {'n_ocur': 1, 'n_tweets': 1},\n 'sexually': {'n_ocur': 32, 'n_tweets': 30},\n 'coming': {'n_ocur': 186, 'n_tweets': 182},\n 'men': {'n_ocur': 831, 'n_tweets': 732},\n 'indiscretion': {'n_ocur': 1, 'n_tweets': 1},\n 'comes': {'n_ocur': 173, 'n_tweets': 172},\n 'sex': {'n_ocur': 241, 'n_tweets': 225},\n 'habitual': {'n_ocur': 1, 'n_tweets': 1},\n 'sexism': {'n_ocur': 85, 'n_tweets': 78},\n 'larf': {'n_ocur': 1, 'n_tweets': 1},\n 'ncweaver': {'n_ocur': 11, 'n_tweets': 11},\n 'ran': {'n_ocur': 51, 'n_tweets': 51},\n 'difficulties': {'n_ocur': 4, 'n_tweets': 4},\n 'getting': {'n_ocur': 550, 'n_tweets': 528},\n 'respond': {'n_ocur': 41, 'n_tweets': 40},\n 'which': {'n_ocur': 633, 'n_tweets': 609},\n 'weird': {'n_ocur': 224, 'n_tweets': 212},\n 'orgs': {'n_ocur': 15, 'n_tweets': 15},\n 'written': {'n_ocur': 72, 'n_tweets': 67},\n 'stories': {'n_ocur': 60, 'n_tweets': 59},\n 'kbrnnr': {'n_ocur': 1, 'n_tweets': 1},\n 'female': {'n_ocur': 699, 'n_tweets': 645},\n 'ref': {'n_ocur': 6, 'n_tweets': 5},\n 'cost': {'n_ocur': 25, 'n_tweets': 25},\n 'magic': {'n_ocur': 28, 'n_tweets': 28},\n 'bunch': {'n_ocur': 154, 'n_tweets': 152},\n 'garbage': {'n_ocur': 28, 'n_tweets': 28},\n 'giving': {'n_ocur': 131, 'n_tweets': 129},\n 'teams': {'n_ocur': 63, 'n_tweets': 60},\n 'enough': {'n_ocur': 304, 'n_tweets': 290},\n 'cook': {'n_ocur': 79, 'n_tweets': 76},\n 'everything': {'n_ocur': 291, 'n_tweets': 285},\n 'beat': {'n_ocur': 218, 'n_tweets': 214},\n 'score': {'n_ocur': 47, 'n_tweets': 46},\n 'record': {'n_ocur': 48, 'n_tweets': 47},\n 'expect': {'n_ocur': 99, 'n_tweets': 97},\n 'scores': {'n_ocur': 24, 'n_tweets': 24},\n '100': {'n_ocur': 124, 'n_tweets': 123},\n 'many': {'n_ocur': 713, 'n_tweets': 659},\n 'patriotic': {'n_ocur': 8, 'n_tweets': 8},\n 'ideas': {'n_ocur': 48, 'n_tweets': 46},\n 'against': {'n_ocur': 873, 'n_tweets': 793},\n 'communism': {'n_ocur': 12, 'n_tweets': 11},\n 'unfortunately': {'n_ocur': 52, 'n_tweets': 52},\n 'young': {'n_ocur': 158, 'n_tweets': 154},\n 'prolgbt': {'n_ocur': 1, 'n_tweets': 1},\n 'universities': {'n_ocur': 6, 'n_tweets': 6},\n 'propaganda': {'n_ocur': 82, 'n_tweets': 81},\n 'sindarina': {'n_ocur': 3, 'n_tweets': 3},\n 'tweetbot': {'n_ocur': 1, 'n_tweets': 1},\n 'paid': {'n_ocur': 72, 'n_tweets': 72},\n 'client': {'n_ocur': 9, 'n_tweets': 9},\n 'amohedin': {'n_ocur': 21, 'n_tweets': 21},\n 'okay': {'n_ocur': 281, 'n_tweets': 266},\n 'agree': {'n_ocur': 183, 'n_tweets': 180},\n 'taliban': {'n_ocur': 72, 'n_tweets': 64},\n 'saudis': {'n_ocur': 12, 'n_tweets': 12},\n 'implementing': {'n_ocur': 3, 'n_tweets': 3},\n '3333': {'n_ocur': 15, 'n_tweets': 14},\n 'mwlauthor': {'n_ocur': 14, 'n_tweets': 14},\n 'hahaha': {'n_ocur': 93, 'n_tweets': 89},\n 'suspect': {'n_ocur': 18, 'n_tweets': 18},\n 'type': {'n_ocur': 143, 'n_tweets': 141},\n 'really': {'n_ocur': 1160, 'n_tweets': 1109},\n 'fast': {'n_ocur': 41, 'n_tweets': 41},\n 'keyboard': {'n_ocur': 14, 'n_tweets': 13},\n 'p': {'n_ocur': 243, 'n_tweets': 241},\n 'seanbonner': {'n_ocur': 12, 'n_tweets': 12},\n 'mention': {'n_ocur': 79, 'n_tweets': 79},\n 'poverty': {'n_ocur': 17, 'n_tweets': 17},\n 'levels': {'n_ocur': 15, 'n_tweets': 15},\n 'other': {'n_ocur': 1121, 'n_tweets': 1061},\n 'countries': {'n_ocur': 172, 'n_tweets': 155},\n 'amount': {'n_ocur': 52, 'n_tweets': 52},\n 'insurmountable': {'n_ocur': 2, 'n_tweets': 2},\n 'teenagers': {'n_ocur': 15, 'n_tweets': 14},\n 'alwayswrighthoe': {'n_ocur': 1, 'n_tweets': 1},\n 'lmfaoooooooooooooooooooooooooo': {'n_ocur': 1, 'n_tweets': 1},\n 'bruh': {'n_ocur': 43, 'n_tweets': 42},\n 'anjemchoudary': {'n_ocur': 10, 'n_tweets': 10},\n 'nobody': {'n_ocur': 120, 'n_tweets': 120},\n 'cares': {'n_ocur': 66, 'n_tweets': 65},\n 'means': {'n_ocur': 241, 'n_tweets': 234},\n 'fools': {'n_ocur': 36, 'n_tweets': 36},\n 'obligation': {'n_ocur': 7, 'n_tweets': 7},\n 'trader': {'n_ocur': 15, 'n_tweets': 15},\n 'caravan': {'n_ocur': 8, 'n_tweets': 8},\n 'robber': {'n_ocur': 10, 'n_tweets': 10},\n 'mimi': {'n_ocur': 5, 'n_tweets': 5},\n 'longer': {'n_ocur': 66, 'n_tweets': 63},\n 'card': {'n_ocur': 61, 'n_tweets': 57},\n 'collaborate': {'n_ocur': 4, 'n_tweets': 4},\n 'ruin': {'n_ocur': 30, 'n_tweets': 30},\n 'official': {'n_ocur': 29, 'n_tweets': 29},\n 'government': {'n_ocur': 117, 'n_tweets': 112},\n 'recognized': {'n_ocur': 7, 'n_tweets': 7},\n 'united': {'n_ocur': 57, 'n_tweets': 53},\n 'nations': {'n_ocur': 29, 'n_tweets': 29},\n 'invited': {'n_ocur': 17, 'n_tweets': 16},\n 'coup': {'n_ocur': 4, 'n_tweets': 4},\n 'rebels': {'n_ocur': 5, 'n_tweets': 5},\n 'say': {'n_ocur': 1413, 'n_tweets': 1280},\n 'once': {'n_ocur': 247, 'n_tweets': 246},\n 'fear': {'n_ocur': 106, 'n_tweets': 99},\n 'suspicion': {'n_ocur': 3, 'n_tweets': 3},\n 'negro': {'n_ocur': 441, 'n_tweets': 405},\n 'point': {'n_ocur': 344, 'n_tweets': 337},\n 'cannot': {'n_ocur': 167, 'n_tweets': 164},\n 'period': {'n_ocur': 65, 'n_tweets': 62},\n 'am': {'n_ocur': 851, 'n_tweets': 780},\n 'talking': {'n_ocur': 438, 'n_tweets': 419},\n 'specific': {'n_ocur': 54, 'n_tweets': 50},\n 'passing': {'n_ocur': 16, 'n_tweets': 16},\n 'mixed': {'n_ocur': 39, 'n_tweets': 38},\n 'thin': {'n_ocur': 17, 'n_tweets': 17},\n 'ice': {'n_ocur': 27, 'n_tweets': 26},\n 'yall': {'n_ocur': 423, 'n_tweets': 357},\n 'sit': {'n_ocur': 88, 'n_tweets': 86},\n 'twitter': {'n_ocur': 543, 'n_tweets': 524},\n 'females': {'n_ocur': 255, 'n_tweets': 233},\n 'bitches': {'n_ocur': 390, 'n_tweets': 366},\n 'girlfriend': {'n_ocur': 63, 'n_tweets': 63},\n 'make': {'n_ocur': 1275, 'n_tweets': 1180},\n 'instant': {'n_ocur': 79, 'n_tweets': 78},\n 'dopamine': {'n_ocur': 1, 'n_tweets': 1},\n 'go': {'n_ocur': 1316, 'n_tweets': 1254},\n 'drug': {'n_ocur': 32, 'n_tweets': 32},\n 'store': {'n_ocur': 39, 'n_tweets': 38},\n 'buy': {'n_ocur': 88, 'n_tweets': 83},\n 'cream': {'n_ocur': 21, 'n_tweets': 20},\n 'realize': {'n_ocur': 105, 'n_tweets': 103},\n 'afford': {'n_ocur': 27, 'n_tweets': 27},\n 'phone': {'n_ocur': 93, 'n_tweets': 87},\n 'see': {'n_ocur': 1212, 'n_tweets': 1161},\n 'paparazzi': {'n_ocur': 1, 'n_tweets': 1},\n 'photos': {'n_ocur': 25, 'n_tweets': 23},\n 'partying': {'n_ocur': 2, 'n_tweets': 2},\n 'hadid': {'n_ocur': 2, 'n_tweets': 2},\n 'wanna': {'n_ocur': 285, 'n_tweets': 272},\n 'faisal': {'n_ocur': 2, 'n_tweets': 2},\n 'amen': {'n_ocur': 8, 'n_tweets': 8},\n 'church': {'n_ocur': 100, 'n_tweets': 89},\n 'lmmmaaaooo': {'n_ocur': 1, 'n_tweets': 1},\n 'discerningmumin': {'n_ocur': 37, 'n_tweets': 37},\n 'practicing': {'n_ocur': 12, 'n_tweets': 12},\n 'vomiting': {'n_ocur': 1, 'n_tweets': 1},\n 'jews': {'n_ocur': 227, 'n_tweets': 209},\n 'believers': {'n_ocur': 21, 'n_tweets': 20},\n 'check': {'n_ocur': 105, 'n_tweets': 105},\n 'code': {'n_ocur': 65, 'n_tweets': 63},\n 'umar': {'n_ocur': 9, 'n_tweets': 9},\n 'httptcoarxep7l88p': {'n_ocur': 1, 'n_tweets': 1},\n 'hate': {'n_ocur': 1039, 'n_tweets': 968},\n 'puts': {'n_ocur': 24, 'n_tweets': 24},\n 'pedestal': {'n_ocur': 6, 'n_tweets': 6},\n 'wrong': {'n_ocur': 463, 'n_tweets': 438},\n 'songs': {'n_ocur': 27, 'n_tweets': 26},\n 'stay': {'n_ocur': 179, 'n_tweets': 176},\n 'joking': {'n_ocur': 43, 'n_tweets': 43},\n 'slavery': {'n_ocur': 135, 'n_tweets': 122},\n 'amongst': {'n_ocur': 10, 'n_tweets': 10},\n 'gays': {'n_ocur': 273, 'n_tweets': 266},\n 'excluded': {'n_ocur': 10, 'n_tweets': 10},\n 'seems': {'n_ocur': 154, 'n_tweets': 148},\n 'learned': {'n_ocur': 84, 'n_tweets': 81},\n 'few': {'n_ocur': 306, 'n_tweets': 291},\n 'had': {'n_ocur': 1234, 'n_tweets': 1147},\n 'opportunity': {'n_ocur': 30, 'n_tweets': 29},\n 'may': {'n_ocur': 204, 'n_tweets': 195},\n 'chance': {'n_ocur': 62, 'n_tweets': 59},\n 'learn': {'n_ocur': 163, 'n_tweets': 154},\n 'osama': {'n_ocur': 20, 'n_tweets': 18},\n 'hafeez': {'n_ocur': 6, 'n_tweets': 5},\n 'terrorist': {'n_ocur': 623, 'n_tweets': 553},\n 'outfits': {'n_ocur': 8, 'n_tweets': 7},\n 'chongi123': {'n_ocur': 1, 'n_tweets': 1},\n 'yes': {'n_ocur': 532, 'n_tweets': 514},\n 'please': {'n_ocur': 439, 'n_tweets': 415},\n 'cast': {'n_ocur': 25, 'n_tweets': 24},\n 'balllot': {'n_ocur': 1, 'n_tweets': 1},\n 'votes': {'n_ocur': 29, 'n_tweets': 29},\n 'fun': {'n_ocur': 276, 'n_tweets': 267},\n 'yet': {'n_ocur': 282, 'n_tweets': 278},\n 'none': {'n_ocur': 101, 'n_tweets': 99},\n 'seem': {'n_ocur': 124, 'n_tweets': 124},\n 'run': {'n_ocur': 171, 'n_tweets': 165},\n 'ways': {'n_ocur': 61, 'n_tweets': 60},\n 'murder': {'n_ocur': 176, 'n_tweets': 170},\n 'talk': {'n_ocur': 499, 'n_tweets': 481},\n 'emanamb': {'n_ocur': 1, 'n_tweets': 1},\n 'codemastermm': {'n_ocur': 3, 'n_tweets': 3},\n 'fcc': {'n_ocur': 2, 'n_tweets': 2},\n 'motion': {'n_ocur': 3, 'n_tweets': 3},\n 'internet': {'n_ocur': 92, 'n_tweets': 90},\n 'filed': {'n_ocur': 6, 'n_tweets': 6},\n 'title': {'n_ocur': 31, 'n_tweets': 30},\n 'ii': {'n_ocur': 7, 'n_tweets': 7},\n 'utility': {'n_ocur': 1, 'n_tweets': 1},\n 'kat': {'n_ocur': 426, 'n_tweets': 422},\n ...}"
     },
     "execution_count": 326,
     "metadata": {},
     "output_type": "execute_result"
    }
   ],
   "source": [
    "dicc_text"
   ],
   "metadata": {
    "collapsed": false
   }
  },
  {
   "cell_type": "markdown",
   "metadata": {},
   "source": [
    "El resultat serà un diccionari tipus (no necessàriament amb aquest valors):\n",
    "\n",
    "```python\n",
    "{\n",
    "    'memory' : {'n_ocur': 88, 'n_tweets': 76},\n",
    "    'best': {'n_ocur': 123, 'n_tweets': 65},\n",
    "    ...\n",
    "}\n",
    "```"
   ]
  },
  {
   "cell_type": "markdown",
   "metadata": {},
   "source": [
    "### Contar paraules per cada categoria de tweet"
   ]
  },
  {
   "cell_type": "code",
   "execution_count": 327,
   "metadata": {},
   "outputs": [
    {
     "data": {
      "text/plain": "                                              tweet_text   cyberbullying_type\n43653  Kill yo self you dumb ass cracker redneck bitc...            ethnicity\n5809   Is there a big-time VC who has strong feminist...    not_cyberbullying\n23265  That's hilarious if you are not Christian then...             religion\n37684           Support your local middle school bullies                  age\n24986  Dismay over Liam Fox's claim of 'shared values...  other_cyberbullying",
      "text/html": "<div>\n<style scoped>\n    .dataframe tbody tr th:only-of-type {\n        vertical-align: middle;\n    }\n\n    .dataframe tbody tr th {\n        vertical-align: top;\n    }\n\n    .dataframe thead th {\n        text-align: right;\n    }\n</style>\n<table border=\"1\" class=\"dataframe\">\n  <thead>\n    <tr style=\"text-align: right;\">\n      <th></th>\n      <th>tweet_text</th>\n      <th>cyberbullying_type</th>\n    </tr>\n  </thead>\n  <tbody>\n    <tr>\n      <th>43653</th>\n      <td>Kill yo self you dumb ass cracker redneck bitc...</td>\n      <td>ethnicity</td>\n    </tr>\n    <tr>\n      <th>5809</th>\n      <td>Is there a big-time VC who has strong feminist...</td>\n      <td>not_cyberbullying</td>\n    </tr>\n    <tr>\n      <th>23265</th>\n      <td>That's hilarious if you are not Christian then...</td>\n      <td>religion</td>\n    </tr>\n    <tr>\n      <th>37684</th>\n      <td>Support your local middle school bullies</td>\n      <td>age</td>\n    </tr>\n    <tr>\n      <th>24986</th>\n      <td>Dismay over Liam Fox's claim of 'shared values...</td>\n      <td>other_cyberbullying</td>\n    </tr>\n  </tbody>\n</table>\n</div>"
     },
     "execution_count": 327,
     "metadata": {},
     "output_type": "execute_result"
    }
   ],
   "source": [
    "df_tweets_train.head()"
   ]
  },
  {
   "cell_type": "markdown",
   "metadata": {},
   "source": [
    "#### **EXERCICI 4:** \n",
    "\n",
    "Fent servir la funció que se us dona a continuació (eachTopic), apliqueu-la per tal de comptar les paraules que s'han trobat i la seva ocurrència segregant ara per categoria."
   ]
  },
  {
   "cell_type": "code",
   "execution_count": 328,
   "metadata": {
    "tags": []
   },
   "outputs": [],
   "source": [
    "def count_words_categories(df):\n",
    "    \"\"\"\n",
    "    Funció que ha de constuir un diccionari que conté la freqüència de les \n",
    "    paraules i el número de tweets on ha aparegut. \n",
    "    Aquesta informació ha de ser dividida per diferents categories de cyberbullying.\n",
    "    \n",
    "    :param df: DataFrame amb els tweets i la informació associada\n",
    "    :return : Diccionari amb el format {label : {word : {n_ocur: valor, n_news: valor} } }\n",
    "    \"\"\"\n",
    "    words_topic = {}\n",
    "    \n",
    "    def eachTopic(group):\n",
    "        # Count words on this topic and save to dictionary\n",
    "        words_topic[group['cyberbullying_type'].iloc[0]] = count_words(group)\n",
    "\n",
    "    # Group by topics and apply function to each topic\n",
    "    \n",
    "    allTopics = df.groupby('cyberbullying_type')\n",
    "\n",
    "    for label,topic in allTopics:\n",
    "        eachTopic(topic)\n",
    "\n",
    "    return words_topic"
   ]
  },
  {
   "cell_type": "code",
   "execution_count": 329,
   "metadata": {},
   "outputs": [
    {
     "name": "stderr",
     "output_type": "stream",
     "text": [
      "C:\\Users\\zhipe\\AppData\\Local\\Temp\\ipykernel_21028\\3924668493.py:14: FutureWarning: The default value of regex will change from True to False in a future version.\n",
      "  list_tweet_text = df['tweet_text'].str.replace(r'[^\\w\\s\\']+', '').str.split(pat=\" \")\n"
     ]
    },
    {
     "name": "stdout",
     "output_type": "stream",
     "text": [
      "6\n"
     ]
    }
   ],
   "source": [
    "words_categories = count_words_categories(df_tweets_train)\n",
    "print (len(words_categories))"
   ]
  },
  {
   "cell_type": "markdown",
   "metadata": {},
   "source": [
    "El resultat serà un diccionari tipus (no necessàriament amb aquest valors):\n",
    "\n",
    "```python\n",
    "{\n",
    "    'ethnicity': {\n",
    "        'race' : {'n_ocur': 88, 'n_tweets': 76},\n",
    "        'what': {'n_ocur': 123, 'n_tweets': 65}\n",
    "        ...\n",
    "    },\n",
    "    ...\n",
    "    'gender': {\n",
    "        'jokes' : {'n_ocur': 18, 'n_tweets': 17},\n",
    "        'you': {'n_ocur': 154, 'n_tweets': 66}\n",
    "    }\n",
    "    ...\n",
    "}\n",
    "```"
   ]
  },
  {
   "cell_type": "markdown",
   "metadata": {},
   "source": [
    "### Paraules més freqüents als tweets\n",
    "\n",
    "\n",
    "**El problema de com escollir el vector de carecterístiques**\n",
    "\n",
    "L'elecció de les paraules que formen el vector de característiques és un pas crític. En funció de com de bona sigui aquesta descripció, millor funcionarà el sistema. Tot i que us deixem a vosaltres la política de creació del vector de característiques us donem una pista: per saber quines paraules fer servir una possible estratègia és agafar aquelles paraules que apareixen entre en un 10 i un 50 percent del total (sense tenir en compte la categoria). \n",
    "\n",
    "Podeu experimentar variant aquests valors."
   ]
  },
  {
   "cell_type": "markdown",
   "metadata": {},
   "source": [
    "#### **EXERCICI 5:** \n",
    "\n",
    "Experimenteu omplint la llista *skip_top* amb aquelles paraules que penseu no tenen significat o relevancia per definir cada categoria. Podeu buscar informació sobre **stop words** a internet i definir varies llistes fins que penseu que obteniu una bona representació de paraules per categoria de cyberbullying."
   ]
  },
  {
   "cell_type": "code",
   "execution_count": 330,
   "outputs": [
    {
     "name": "stderr",
     "output_type": "stream",
     "text": [
      "[nltk_data] Downloading package stopwords to\n",
      "[nltk_data]     C:\\Users\\zhipe\\AppData\\Roaming\\nltk_data...\n",
      "[nltk_data]   Package stopwords is already up-to-date!\n"
     ]
    },
    {
     "data": {
      "text/plain": "True"
     },
     "execution_count": 330,
     "metadata": {},
     "output_type": "execute_result"
    }
   ],
   "source": [
    "import  nltk\n",
    "nltk.download(\"stopwords\")\n"
   ],
   "metadata": {
    "collapsed": false
   }
  },
  {
   "cell_type": "code",
   "execution_count": 331,
   "outputs": [],
   "source": [
    "skip_word = nltk.corpus.stopwords.words(\"english\")\n",
    "manual_skip_word = [\"\",\"u\",\"\",\"like\",\"one\",\"im\",\"people\",\"got\",\"middle\",\"get\",\"would\",\"dont\",\"amp\",\"know\",\"back\",\"didnt\",\"mean\",\"really\",\"time\",\"still\",\"think\",\"go\",\"never\",\"even\",\"always\",\"also\",\"see\", \"used\",\"every\",\"said\",\"way\",\"went\",\"day\",\"look\",\"say\",\"everyone\",\"good\",\"want\",\"getting\",\"youre\",\"someone\",\"friends\",\"much\", \"ur\",\"rt\",\"called\",\"tayyoung\",\"first\",\"anything\",\"yall\", \"call\",\"funny\",\"mkr\",\"make\",\"making\",\"cant\",\"made\", 'ive', 'shit', 'e', 'need', 'thats', 'well', 'que', 'oh', 'going', 'é', 'de','lol','mkr2015', 'right', 'radical','us','r']\n",
    "\n",
    "skip_word = np.concatenate((skip_word, manual_skip_word))\n"
   ],
   "metadata": {
    "collapsed": false
   }
  },
  {
   "cell_type": "code",
   "execution_count": 332,
   "metadata": {
    "tags": []
   },
   "outputs": [],
   "source": [
    "skip_top = ['', 'a', 'able', 'about', 'above', 'abst', 'accordance', 'according', 'accordingly', 'across', 'act', 'actually', 'added', 'adj', 'affected', 'affecting', 'affects', 'after', 'afterwards', 'again', 'against', 'ah', 'all', 'almost', 'alone', 'along', 'already', 'also', 'although', 'always', 'am', 'among', 'amongst', 'an', 'and', 'announce', 'another', 'any', 'anybody', 'anyhow', 'anymore', 'anyone', 'anything', 'anyway', 'anyways', 'anywhere', 'apparently', 'approximately', 'are', 'aren', 'arent', 'arise', 'around', 'as', 'aside', 'ask', 'asking', 'at', 'auth', 'available', 'away', 'awfully', 'b', 'back', 'be', 'became', 'because', 'become', 'becomes', 'becoming', 'been', 'before', 'beforehand', 'begin', 'beginning', 'beginnings', 'begins', 'behind', 'being', 'believe', 'below', 'beside', 'besides', 'between', 'beyond', 'biol', 'both', 'brief', 'briefly', 'but', 'by', 'c', 'ca', 'came', 'can', 'cannot', \"can't\", 'cause', 'causes', 'certain', 'certainly', 'co', 'com', 'come', 'comes', 'contain', 'containing', 'contains', 'could', 'couldnt', 'd', 'date', 'did', \"didn't\", 'different', 'do', 'does', \"doesn't\", 'doing', 'done', \"don't\", 'down', 'downwards', 'due', 'during', 'e', 'each', 'ed', 'edu', 'effect', 'eg', 'eight', 'eighty', 'either', 'else', 'elsewhere', 'end', 'ending', 'enough', 'especially', 'et', 'et-al', 'etc', 'even', 'ever', 'every', 'everybody', 'everyone', 'everything', 'everywhere', 'ex', 'except', 'f', 'far', 'few', 'ff', 'fifth', 'first', 'five', 'fix', 'followed', 'following', 'follows', 'for', 'former', 'formerly', 'forth', 'found', 'four', 'from', 'further', 'furthermore', 'g', 'gave', 'get', 'gets', 'getting', 'give', 'given', 'gives', 'giving', 'go', 'goes', 'gone', 'got', 'gotten', 'h', 'had', 'happens', 'hardly', 'has', \"hasn't\", 'have', \"haven't\", 'having', 'he', 'hed', 'hence', 'her', 'here', 'hereafter', 'hereby', 'herein', 'heres', 'hereupon', 'hers', 'herself', 'hes', 'hi', 'hid', 'him', 'himself', 'his', 'hither', 'home', 'how', 'howbeit', 'however', 'hundred', 'i', 'id', 'ie', 'if', \"i'll\", 'im', 'immediate', 'immediately', 'importance', 'important', 'in', 'inc', 'indeed', 'index', 'information', 'instead', 'into', 'invention', 'inward', 'is', \"isn't\", 'it', 'itd', \"it'll\", 'its', 'itself', \"i've\", 'j', 'just', 'k', 'keep', 'keeps', 'kept', 'kg', 'km', 'know', 'known', 'knows', 'l', 'largely', 'last', 'lately', 'later', 'latter', 'latterly', 'least', 'less', 'lest', 'let', 'lets', 'like', 'liked', 'likely', 'line', 'little', \"'ll\", 'look', 'looking', 'looks', 'ltd', 'm', 'made', 'mainly', 'make', 'makes', 'many', 'may', 'maybe', 'me', 'mean', 'means', 'meantime', 'meanwhile', 'merely', 'mg', 'might', 'million', 'miss', 'ml', 'more', 'moreover', 'most', 'mostly', 'mr', 'mrs', 'much', 'mug', 'must', 'my', 'myself', 'n', 'na', 'name', 'namely', 'nay', 'nd', 'near', 'nearly', 'necessarily', 'necessary', 'need', 'needs', 'neither', 'never', 'nevertheless', 'new', 'next', 'nine', 'ninety', 'no', 'nobody', 'non', 'none', 'nonetheless', 'noone', 'nor', 'normally', 'nos', 'not', 'noted', 'nothing', 'now', 'nowhere', 'o', 'obtain', 'obtained', 'obviously', 'of', 'off', 'often', 'oh', 'ok', 'okay', 'old', 'omitted', 'on', 'once', 'one', 'ones', 'only', 'onto', 'or', 'ord', 'other', 'others', 'otherwise', 'ought', 'our', 'ours', 'ourselves', 'out', 'outside', 'over', 'overall', 'owing', 'own', 'p', 'page', 'pages', 'part', 'particular', 'particularly', 'past', 'per', 'perhaps', 'placed', 'please', 'plus', 'poorly', 'possible', 'possibly', 'potentially', 'pp', 'predominantly', 'present', 'previously', 'primarily', 'probably', 'promptly', 'proud', 'provides', 'put', 'q', 'que', 'quickly', 'quite', 'qv', 'r', 'ran', 'rather', 'rd', 're', 'readily', 'really', 'recent', 'recently', 'ref', 'refs', 'regarding', 'regardless', 'regards', 'related', 'relatively', 'research', 'respectively', 'resulted', 'resulting', 'results', 'right', 'run', 's', 'said', 'same', 'saw', 'say', 'saying', 'says', 'sec', 'section', 'see', 'seeing', 'seem', 'seemed', 'seeming', 'seems', 'seen', 'self', 'selves', 'sent', 'seven', 'several', 'shall', 'she', 'shed', \"she'll\", 'shes', 'should', \"shouldn't\", 'show', 'showed', 'shown', 'showns', 'shows', 'significant', 'significantly', 'similar', 'similarly', 'since', 'six', 'slightly', 'so', 'some', 'somebody', 'somehow', 'someone', 'somethan', 'something', 'sometime', 'sometimes', 'somewhat', 'somewhere', 'soon', 'sorry', 'specifically', 'specified', 'specify', 'specifying', 'still', 'stop', 'strongly', 'sub', 'substantially', 'successfully', 'such', 'sufficiently', 'suggest', 'sup', 'sure\\tt', 'take', 'taken', 'taking', 'tell', 'tends', 'th', 'than', 'thank', 'thanks', 'thanx', 'that', \"that'll\", 'thats', \"that've\", 'the', 'their', 'theirs', 'them', 'themselves', 'then', 'thence', 'there', 'thereafter', 'thereby', 'thered', 'therefore', 'therein', \"there'll\", 'thereof', 'therere', 'theres', 'thereto', 'thereupon', \"there've\", 'these', 'they', 'theyd', \"they'll\", 'theyre', \"they've\", 'think', 'this', 'those', 'thou', 'though', 'thoughh', 'thousand', 'throug', 'through', 'throughout', 'thru', 'thus', 'til', 'tip', 'to', 'together', 'too', 'took', 'toward', 'towards', 'tried', 'tries', 'truly', 'try', 'trying', 'ts', 'twice', 'two', 'u', 'un', 'under', 'unfortunately', 'unless', 'unlike', 'unlikely', 'until', 'unto', 'up', 'upon', 'ups', 'us', 'use', 'used', 'useful', 'usefully', 'usefulness', 'uses', 'using', 'usually', 'v', 'value', 'various', \"'ve\", 'very', 'via', 'viz', 'vol', 'vols', 'vs', 'w', 'want', 'wants', 'was', 'wasnt', 'way', 'we', 'wed', 'welcome', \"we'll\", 'went', 'were', 'werent', \"we've\", 'what', 'whatever', \"what'll\", 'whats', 'when', 'whence', 'whenever', 'where', 'whereafter', 'whereas', 'whereby', 'wherein', 'wheres', 'whereupon', 'wherever', 'whether', 'which', 'while', 'whim', 'whither', 'who', 'whod', 'whoever', 'whole', \"who'll\", 'whom', 'whomever', 'whos', 'whose', 'why', 'widely', 'willing', 'wish', 'with', 'within', 'without', 'wont', 'words', 'world', 'would', 'wouldnt', 'www', 'x', 'y', 'yes', 'yet', 'you', 'youd', \"you'll\", 'your', 'youre', 'yours', 'yourself', 'yourselves', \"you've\", 'z', 'zer', 'i\\'m', 'é', 'lol', 'going']\n",
    "\n",
    "skip_top = np.concatenate((skip_top, skip_word))\n",
    "\n",
    "def topNwords(df, words, N, skip=[]):\n",
    "    \"\"\"\n",
    "    Funció que crea un diccionari amb les N paraules més representatives \n",
    "    (les que apareixen amb més freqüència) de cadascuna de les categories de cyberbullying.\n",
    "    \n",
    "    Tingueu en compte que també haureu de filtrar aquelles paraules que apareixen en la majoria \n",
    "    de tweets, així com també, les que únicament apareixen en un conjunt molt petit de tweets\n",
    "    \n",
    "    :param df: DataFrame amb els tweets i la informació associada\n",
    "    :param words: diccionari amb les paraules i la seva frequencia\n",
    "    :param N: número de paraules més representatives que volem considerar\n",
    "    :return : Diccionari amb el format {categoria1: llista_top_words_cat_1,  \n",
    "                                        categoria2: llista_top_words_cat_2, ...} \n",
    "    \"\"\"\n",
    "    top_words=dict()\n",
    "    \n",
    "    def each_word(topic, word):\n",
    "        if word not in skip:\n",
    "            return words[topic][word]['n_ocur']\n",
    "        return 0\n",
    "    \n",
    "    for topic in words:\n",
    "        top_words[topic] = sorted(words[topic], key=lambda x: each_word(topic, x))[-N:][::-1]\n",
    "    \n",
    "    return top_words"
   ]
  },
  {
   "cell_type": "code",
   "execution_count": 333,
   "metadata": {},
   "outputs": [],
   "source": [
    "top_words = topNwords(df_tweets_train, words_categories, 20, skip_top)"
   ]
  },
  {
   "cell_type": "code",
   "execution_count": 334,
   "outputs": [
    {
     "data": {
      "text/plain": "{'age': ['school',\n  'high',\n  'bullied',\n  'bully',\n  'girl',\n  'girls',\n  'bullies',\n  'kids',\n  'schools',\n  'life',\n  'bullying',\n  'years',\n  'year',\n  'grade',\n  'kid',\n  'black',\n  'white',\n  'feel',\n  'love',\n  'remember'],\n 'ethnicity': ['dumb',\n  'fuck',\n  'nigger',\n  'ass',\n  'black',\n  'white',\n  'niggers',\n  'obama',\n  'tayyoung_',\n  'bitch',\n  'racism',\n  'fucking',\n  'negro',\n  'racist',\n  'colored',\n  'disgusting',\n  'nigga',\n  'man',\n  'mad',\n  'stupid'],\n 'gender': ['rape',\n  'gay',\n  'jokes',\n  'joke',\n  'sexist',\n  'bitch',\n  'women',\n  'female',\n  'men',\n  'man',\n  'fucking',\n  'bitches',\n  'females',\n  'gays',\n  'prison',\n  'girls',\n  'woman',\n  'feminazi',\n  'hate',\n  'racist'],\n 'not_cyberbullying': ['bullying',\n  'bully',\n  'school',\n  'kat',\n  'andre',\n  'love',\n  'women',\n  'class',\n  'twitter',\n  \"that's\",\n  'isis',\n  'fuck',\n  'bad',\n  'eu',\n  'se',\n  'sure',\n  'fucking',\n  'bullied',\n  'hate',\n  'today'],\n 'other_cyberbullying': ['bully',\n  'fucking',\n  'bullying',\n  'bullied',\n  'hate',\n  'twitter',\n  \"that's\",\n  'bad',\n  'idiot',\n  'women',\n  'freebsdgirl',\n  'ass',\n  'things',\n  'feminazi',\n  'fuck',\n  'love',\n  'pretty',\n  'blameonenotall',\n  'thing',\n  'gamergate'],\n 'religion': ['muslims',\n  'muslim',\n  'idiot',\n  'christian',\n  'idiots',\n  'islamic',\n  'islam',\n  'terrorism',\n  'support',\n  'woman',\n  'terrorist',\n  'isis',\n  'quran',\n  'terrorists',\n  'christians',\n  'jihad',\n  'religion',\n  'humanity',\n  'india',\n  'country']}"
     },
     "execution_count": 334,
     "metadata": {},
     "output_type": "execute_result"
    }
   ],
   "source": [
    "top_words"
   ],
   "metadata": {
    "collapsed": false
   }
  },
  {
   "cell_type": "markdown",
   "metadata": {},
   "source": [
    "El resultat serà un diccionari tipus (no necessàriament amb aquest valors):\n",
    "\n",
    "```python\n",
    "{\n",
    "    'age': ['school', 'high', ...],\n",
    "    ...\n",
    "    'religion': ['muslims', 'christian',...]\n",
    "    ...\n",
    "}\n",
    "```"
   ]
  },
  {
   "cell_type": "markdown",
   "metadata": {},
   "source": [
    "> Una pista de que aneu ben encaminats es que per cadascuna de les categories de cyberbullying obtingueu paraules rellevants per aquesta. Si no es així, vol dir que heu d'incrementar el nombre de paraules a saltar (*skip_top*)."
   ]
  },
  {
   "cell_type": "markdown",
   "metadata": {},
   "source": [
    "> EXPERIMENTEU AQUÍ QUÈ PASSA SEGONS LES \"STOP WORDS\" QUE USEU."
   ]
  },
  {
   "cell_type": "markdown",
   "metadata": {},
   "source": [
    "### Vector de Característiques\n",
    "\n",
    "#### **EXERCICI 6:** \n",
    "\n",
    "Creeu el vector de característiques necessari per a fer l’entrenament del Naïve Bayes."
   ]
  },
  {
   "cell_type": "code",
   "execution_count": 335,
   "metadata": {
    "tags": []
   },
   "outputs": [],
   "source": [
    "def create_features(df, top_words): \n",
    "    \"\"\"\n",
    "    Funció que crea un vector de característiques necessari per a l'entrenament del classificador Naive Bayes\n",
    "    \n",
    "    :params df: DataFrame amb els tweets i la informació associada\n",
    "    :params top_words: ha de ser el diccionari que retorna topNWords\n",
    "    :return : diccionari o pd.Series que conté un np.array per a \n",
    "        cadascuna dels tweets amb el vector de característiques corresponent.\n",
    "    \"\"\"\n",
    "    \n",
    "    # YOUR CODE HERE\n",
    "    mask_word = np.asarray([])\n",
    "    for word in top_words.values():\n",
    "        mask_word = np.concatenate((mask_word, word))\n",
    "\n",
    "    matrix = np.asarray([])\n",
    "    for word in mask_word:\n",
    "        word_mask = df['tweet_text'].str.contains(word)\n",
    "        array = word_mask.to_numpy().astype(int)\n",
    "        if matrix.size == 0 :\n",
    "            matrix = np.asarray([array])\n",
    "        else:\n",
    "            matrix = np.concatenate((matrix, [array]), axis=0)\n",
    "    matrix = matrix.T\n",
    "\n",
    "    result = {}\n",
    "    for idx, array in zip( df.index.to_numpy(),matrix):\n",
    "        result[idx] = array\n",
    "    return  result"
   ]
  },
  {
   "cell_type": "code",
   "execution_count": 336,
   "metadata": {
    "tags": []
   },
   "outputs": [
    {
     "name": "stderr",
     "output_type": "stream",
     "text": [
      "C:\\Users\\zhipe\\AppData\\Local\\Temp\\ipykernel_21028\\3924668493.py:14: FutureWarning: The default value of regex will change from True to False in a future version.\n",
      "  list_tweet_text = df['tweet_text'].str.replace(r'[^\\w\\s\\']+', '').str.split(pat=\" \")\n"
     ]
    }
   ],
   "source": [
    "N = 20 # Aquest parametre el podem canviar i fer proves per avaluar quin és el millor valor.\n",
    "words_categories = count_words_categories(df_tweets_train)\n",
    "top_words = topNwords(df_tweets_train, words_categories, N, skip_top)\n",
    "dict_feat_vector = create_features(df_tweets_train, top_words)"
   ]
  },
  {
   "cell_type": "code",
   "execution_count": 337,
   "metadata": {},
   "outputs": [
    {
     "data": {
      "text/plain": "38153"
     },
     "execution_count": 337,
     "metadata": {},
     "output_type": "execute_result"
    }
   ],
   "source": [
    "len(dict_feat_vector)"
   ]
  },
  {
   "cell_type": "markdown",
   "metadata": {},
   "source": [
    "El resultat serà un diccionari tipus (no necessàriament amb aquest valors):\n",
    "\n",
    "```python\n",
    "{\n",
    "    0: np.array([0, 1, 1, 0, ...]),\n",
    "    1: np.array([0, 1, 1, 1, ...]),\n",
    "    ...\n",
    "}\n",
    "```"
   ]
  },
  {
   "cell_type": "markdown",
   "metadata": {},
   "source": [
    "Com podem observar, hi ha un vector de característiques per cadascun dels tweets en entrenament. El que esperem és que aquest vector ens estigui donant informació del que posa a cada tweet."
   ]
  },
  {
   "cell_type": "code",
   "execution_count": 338,
   "metadata": {},
   "outputs": [
    {
     "data": {
      "text/plain": "(38153, 2)"
     },
     "execution_count": 338,
     "metadata": {},
     "output_type": "execute_result"
    }
   ],
   "source": [
    "df_tweets_train.shape"
   ]
  },
  {
   "cell_type": "markdown",
   "metadata": {},
   "source": [
    "### El classificador Naïve Bayes\n",
    "\n",
    "Un cop tenim una representació necessitem un procés d'aprenentatge que ens permeti passar de la descripció a una categoria. \n",
    "En aquest lliurament farem servir el classificador Naïve Bayes. \n",
    "Aquest classificador forma part de la família de classificadors probabilístics. \n",
    "La sortida d'un classificador probabilístic és un valor de probabilitat donat un exemple per cadascuna de les categories. \n",
    "La decisió final correspon a la categoria amb més probabilitat. \n",
    "\n",
    "\n",
    "Els classificadors probabilistics Bayesians es basen en el teorema de Bayes per realitzar els càlculs per trobar la probabilitat condicionada: \n",
    "$$ p(x,y) = p(x|y)p(y) = p(y|x)p(x)$$\n",
    "d'on podem extreure que: \n",
    "$$ p(y|x) = \\frac{p(x|y)p(y)}{p(x)}$$\n",
    "\n",
    "\n",
    "En molts casos $p(y)$ i $p(x)$ són desconeguts i es consideren equiprobables. \n",
    "Per tant, la decisió es simplifica a:\n",
    "$$ p(y|x) = p(y) · p(x|y)$$\n",
    "\n",
    "\n",
    "Les deduccions fins a aquest punt són vàlides per la majoria de classificadors Bayesians. \n",
    "Naïve Bayes es distingeix de la resta perquè imposa una condició encara més restrictiva. \n",
    "Considerem $x=(x_1, \\cdots, x_n)$ un conjunt d'$N$ variables aleatòries. \n",
    "Naïve Bayes assumeix que totes elles són independents entre elles i per tant podem escriure:\n",
    "$$p(x_1,x_2,...,x_N | y) = p(x_1|y)p(x_2|y)...p(x_N|y)$$\n",
    "\n",
    "\n",
    "Podem interpretar l'anterior equació de la següent forma: La probabilitat de que el tweet descrit pel vector de característiques (0,1,0,1,1,1) sigui de la classe \"gender\" és proporcional al producte de la probabilitat que la primera paraula del vector no aparegui en els tweets sobre \"gender\" per la probabilitat que la segona paraula sí que hi aparegui, etc.\n",
    "\n",
    "\n",
    "**Estimant les probabilitats marginals condicionades**\n",
    "\n",
    "L'últim pas que ens queda és trobar el valor de les probabilitats condicionades. \n",
    "Farem servir la representació de $0$'s i $1$'s indicant que la paraula no apareix (0) o sí apareix (1) a al tweet. \n",
    "Per trobar el valor de la probabilitat condicionada farem servir una aproximació freqüentista a la probabilitat. \n",
    "Això vol dir que calcularem la freqüència d'aparició de cada paraula per a cada categoria. \n",
    "Aquest càlcul es fa dividint el nombre de tweets de la categoria en que apareix la paraula pel nombre total de tweets d'aquella categoria. \n",
    "\n",
    "En gneral:\n",
    "$$p(x = \\text{\"school\"} | y = C)= \\frac{A}{B} $$\n",
    "on A és el número de tweets de la categoria C on hi apareix la paraula 'school' i B és el número total de tweets de la categoria C.\n",
    "\n",
    "\n",
    "### Punts dèbils:\n",
    "\n",
    "**El problema de la probabilitat 0**\n",
    "\n",
    "Si us hi fixeu bé, la probabilitatpot ser 0 !!  Això vol dir, que si en el tweet no hi apareix una paraula no pot ser classificada com cap tipus de cyber bullying.\n",
    "\n",
    "No sembla raonable que s'assigni o no en aquesta categoria segons si en el tweet hi apareix o no una única paraula. \n",
    "Per tant, el que s'acostuma a fer és donar una baixa probabilitat en comptes de zero. \n",
    "Una de les possibles solucions es fer servir la correcció de Laplace. \n",
    "Seguint l'exemple anterior la correcció de Laplace és\n",
    "$$p(x= \\text{\"school\"} | y = 'C' ) = \\frac{A+1}{B+M}$$ \n",
    "on M és el nombre de categories\n",
    "\n",
    "**El problema del \"underflow\"**\n",
    "\n",
    "La funció que hem de calcular en el Naive Bayes és un producte. \n",
    "El nombre de caractéristiques del vector és el nombre de termes del producte. \n",
    "Aquests nombres són iguals o menors a 1, si els multipliquem tots entre ells el resultat serà massa petit per a representar-lo en un nombre de punt flotant i el càlcul acabarà sent reduït a zero. \n",
    "Per solucionar aquest problema en comptes d'operar fent multiplicacions, se sol passar a l'escala logarítmica i allà operar fent servir sumes en comptes de multiplicacions."
   ]
  },
  {
   "cell_type": "markdown",
   "metadata": {},
   "source": [
    "#### **EXERCICI 7:** \n",
    "\n",
    "Implementeu la funció d'aprenentatge del classificador Naïve Bayes (funció **naive_bayes_learn()**). La funció ha de mostrar per pantalla el resultat obtingut \n",
    "L'**error d'entrenament** es troba calculant el percentatge d'errors que s'obtenen quan es fa el testeig amb les mateixes dades utilizades per fer entrenament (aprenentatge). Aquest error es un valor molt optimista de com funcionarà el clasificador i mai s'ha de prendre com a mesura per comparar clasificadors. \n",
    "\n",
    "1) Programeu la funció **naive_bayes_learn** per a que estimi les probabilitats marginals condicionades.\n",
    "2) Programeu la funció **naive_bayes** que implementa el classificador. Noteu que aquesta funció está guiada i només haureu d'emplenar els espais on hem posat tres punts suspensius \"#···\"."
   ]
  },
  {
   "cell_type": "code",
   "execution_count": 339,
   "metadata": {},
   "outputs": [],
   "source": [
    "def naive_bayes_learn(df, feats):\n",
    "    \"\"\"\n",
    "    Funció que estima les probabilitats marginals condicionades.\n",
    "    \n",
    "    :params df: DataFrame amb els tweets i la informació associada\n",
    "    :params feats: vector de característiques de cada tweet\n",
    "    :return : probabilitats marginals condicionades\n",
    "    \"\"\"\n",
    "    \n",
    "    # YOUR CODE HERE\n",
    "    probs = {}\n",
    "    categories = df['cyberbullying_type'].unique() # C\n",
    "    M = len(categories)\n",
    "    for cate in categories:\n",
    "        index = df[df['cyberbullying_type'] == cate].index.to_numpy()\n",
    "        len_of_tweets = len(index) # B\n",
    "        values = np.asarray([v for k,v in feats.items() if k in index]).T\n",
    "        vect = np.asarray([sum(v) for v in values])\n",
    "        vect = (vect + 1) / (len_of_tweets + M)# A/B\n",
    "        probs[cate] = vect\n",
    "    return probs"
   ]
  },
  {
   "cell_type": "code",
   "execution_count": 340,
   "metadata": {
    "tags": []
   },
   "outputs": [],
   "source": [
    "import sys\n",
    "from IPython import embed\n",
    "def naive_bayes(df_train, feat_train, feat_test=None, df_test=None):\n",
    "    \"\"\"\n",
    "    Funció que implementa el clasificador Naive_Bayes.\n",
    "    \n",
    "    Si df_test no és None, ha de calcular l'encert sobre les dades de test. És a dir,\n",
    "    després de classificar feat_test ha de comparar la classificació amb la classe\n",
    "    real i dir (print) quin percentatge d'encert ha obtingut.\n",
    "    \n",
    "    :param df_train: DataFrame amb els tweets que s'utilitzaran per l'entrenament\n",
    "    :param feat_train: Diccionari amb els vectors de caracteristiques de cada tweet de l'entrenament\n",
    "    :param feat_test: Diccionari amb els vectors de caracteristiques de cada tweet de test\n",
    "    :param df_test: DataFrame amb els tweets que s'utilitzaran pel test\n",
    "    \n",
    "    :return : Una serie on l'index correspon amb els indexos de df_test i els valors són la\n",
    "        classificació retornada per Naive Bayes\n",
    "    \"\"\"\n",
    "    probs = naive_bayes_learn(df_train, feat_train)\n",
    "    p_of_cat = count_words_categories(df_train)\n",
    "    p_total = len(p_of_cat.keys())\n",
    "    \n",
    "    def eachFeats(row):\n",
    "        id, feat = row\n",
    "        p_max = float('-inf')\n",
    "        p_cat = 0\n",
    "\n",
    "        for category in probs:\n",
    "            # Speed up by using numpy\n",
    "            # inv is the inverse of features, 0 where 1 and 1 where 0\n",
    "            # ...\n",
    "            inv = 1 - feat\n",
    "            # Probs * feats is the probability of being there, while\n",
    "            # inv - inv * feat = 1 - (0, 1, 0... inverses) * probs, probability of not being there\n",
    "            # ...\n",
    "            prob_if = probs[category] * feat\n",
    "            #prob_if = np.clip(prob_if,  1e-15, 1 - 1e-15)\n",
    "            prob_if_not = 1 - (inv * probs[category])\n",
    "            #prob_if_not = np.clip(prob_if_not, 1e-15, 1 - 1e-15)\n",
    "\n",
    "            index = np.where(prob_if_not == 1)\n",
    "            prob = prob_if_not\n",
    "            for i in index:\n",
    "                prob[i] = prob_if[i]\n",
    "            # Sum of logs [vs] underflow caused by mul of probs\n",
    "            # ...\n",
    "            #log_prob = np.sum(np.log(prob_if)) + np.sum(np.log(prob_if_not))\n",
    "            log_prob = np.sum(np.log(prob))\n",
    "            # Take the max, do it now to avoid extra-loops\n",
    "            # ...\n",
    "            if log_prob > p_max:\n",
    "                p_max = log_prob\n",
    "                p_cat = category\n",
    "        return id, p_cat\n",
    "\n",
    "    data = map(eachFeats, feat_test.items())\n",
    "    data = pd.Series(dict(data))\n",
    "    correct = data == df_test['cyberbullying_type']\n",
    "    print(\"Accuracy: {}\".format(correct.sum() / correct.size))\n",
    "    \n",
    "    return correct.sum() / correct.size"
   ]
  },
  {
   "cell_type": "code",
   "execution_count": 341,
   "metadata": {},
   "outputs": [
    {
     "name": "stderr",
     "output_type": "stream",
     "text": [
      "C:\\Users\\zhipe\\AppData\\Local\\Temp\\ipykernel_21028\\3924668493.py:14: FutureWarning: The default value of regex will change from True to False in a future version.\n",
      "  list_tweet_text = df['tweet_text'].str.replace(r'[^\\w\\s\\']+', '').str.split(pat=\" \")\n"
     ]
    }
   ],
   "source": [
    "N = 20 # Aquest parametre el podem canviar i fer proves per avaluar quin és el millor valor.\n",
    "words_topics = count_words_categories(df_tweets_train)\n",
    "top_words = topNwords(df_tweets_train, words_topics, N, skip_top)\n",
    "\n",
    "feat_train = create_features(df_tweets_train, top_words)\n",
    "feat_test = create_features(df_tweets_test, top_words)"
   ]
  },
  {
   "cell_type": "code",
   "execution_count": 342,
   "metadata": {},
   "outputs": [
    {
     "name": "stderr",
     "output_type": "stream",
     "text": [
      "C:\\Users\\zhipe\\AppData\\Local\\Temp\\ipykernel_21028\\3924668493.py:14: FutureWarning: The default value of regex will change from True to False in a future version.\n",
      "  list_tweet_text = df['tweet_text'].str.replace(r'[^\\w\\s\\']+', '').str.split(pat=\" \")\n"
     ]
    },
    {
     "name": "stdout",
     "output_type": "stream",
     "text": [
      "Accuracy: 0.6951462417444176\n"
     ]
    }
   ],
   "source": [
    "accuracy = naive_bayes(df_tweets_train, feat_train, feat_test, df_tweets_test)"
   ]
  },
  {
   "cell_type": "markdown",
   "metadata": {},
   "source": [
    "Haurieu d'obtenir una accuracy del 69-70%. Si heu arribat a això ja està bé! \n",
    "\n",
    "En canvi, per aquells que vulguin tenir alguns **PUNTS EXTRA**, us retem a aconseguir una accuracy més alta. A veure què podeu fer!!!\n",
    "\n"
   ]
  },
  {
   "cell_type": "markdown",
   "metadata": {},
   "source": [
    "**IMPLEMENTACIÓ DE MILLORA**:"
   ]
  }
 ],
 "metadata": {
  "kernelspec": {
   "display_name": "Python 3.9.7 ('base')",
   "language": "python",
   "name": "python3"
  },
  "language_info": {
   "codemirror_mode": {
    "name": "ipython",
    "version": 3
   },
   "file_extension": ".py",
   "mimetype": "text/x-python",
   "name": "python",
   "nbconvert_exporter": "python",
   "pygments_lexer": "ipython3",
   "version": "3.9.7"
  },
  "vscode": {
   "interpreter": {
    "hash": "241c3951e9a53f493d1fc82e13b401a821315a69ddaafb8ed2ace2f94454ed02"
   }
  }
 },
 "nbformat": 4,
 "nbformat_minor": 4
}
